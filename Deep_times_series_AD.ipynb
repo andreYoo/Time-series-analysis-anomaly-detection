{
  "nbformat": 4,
  "nbformat_minor": 0,
  "metadata": {
    "colab": {
      "name": "Deep_times_series_AD.ipynb",
      "provenance": [],
      "collapsed_sections": [],
      "authorship_tag": "ABX9TyM3nB3Kq9zwmbJ2J55cc6I3",
      "include_colab_link": true
    },
    "kernelspec": {
      "name": "python3",
      "display_name": "Python 3"
    },
    "language_info": {
      "name": "python"
    }
  },
  "cells": [
    {
      "cell_type": "markdown",
      "metadata": {
        "id": "view-in-github",
        "colab_type": "text"
      },
      "source": [
        "<a href=\"https://colab.research.google.com/github/andreYoo/Time-series-analysis-anomaly-detection/blob/main/Deep_times_series_AD.ipynb\" target=\"_parent\"><img src=\"https://colab.research.google.com/assets/colab-badge.svg\" alt=\"Open In Colab\"/></a>"
      ]
    },
    {
      "cell_type": "code",
      "execution_count": null,
      "metadata": {
        "id": "FfPoq-Et0r0h"
      },
      "outputs": [],
      "source": [
        "import pandas as pd # 판다스 호출 \n",
        "import numpy as np  # 넘파이 호출 \n",
        "import torch \n",
        "import statsmodels.api as sm # statsmodels 호출 \n",
        "import seaborn as sns # 그래프를 그리기위한 Seaborn 호출 \n",
        "from statsmodels.tsa.seasonal import seasonal_decompose # 데이터 필터 라이러리 호출 \n",
        "import matplotlib.pyplot as plt"
      ]
    },
    {
      "cell_type": "code",
      "source": [
        "from google.colab import drive\n",
        "drive.mount('/content/drive')"
      ],
      "metadata": {
        "colab": {
          "base_uri": "https://localhost:8080/"
        },
        "id": "gVTYtJ_j1P4F",
        "outputId": "4e073d97-62ac-4c4f-825d-059f52d2a775"
      },
      "execution_count": null,
      "outputs": [
        {
          "output_type": "stream",
          "name": "stdout",
          "text": [
            "Drive already mounted at /content/drive; to attempt to forcibly remount, call drive.mount(\"/content/drive\", force_remount=True).\n"
          ]
        }
      ]
    },
    {
      "cell_type": "code",
      "source": [
        "device = torch.device(\"cuda\" if torch.cuda.is_available() else \"cpu\")"
      ],
      "metadata": {
        "id": "EAX9d5lq1S_8"
      },
      "execution_count": null,
      "outputs": []
    },
    {
      "cell_type": "code",
      "source": [
        "!pip install arff2pandas==1.0.1\n",
        "from arff2pandas import a2p\n",
        "# train_data = arff.loadarff('/content/drive/MyDrive/study/ECG5000/ECG5000_TRAIN.arff')\n",
        "# train = pd.DataFrame(train_data)\n",
        "\n",
        "# test_data = arff.loadarff('/content/drive/MyDrive/study/ECG5000/ECG5000_TEST.arff')\n",
        "# test = pd.DataFrame(test_data)w\n",
        "\n",
        "with open('/content/drive/MyDrive/study/ECG5000/ECG5000_TRAIN.arff') as f:\n",
        "  train = a2p.load(f)\n",
        "with open('/content/drive/MyDrive/study/ECG5000/ECG5000_TEST.arff') as f:\n",
        "  test = a2p.load(f)"
      ],
      "metadata": {
        "colab": {
          "base_uri": "https://localhost:8080/"
        },
        "id": "F4nBmTpJ1UNi",
        "outputId": "1a06c6b0-bc17-48fd-d20b-a4e1d2b312a7"
      },
      "execution_count": null,
      "outputs": [
        {
          "output_type": "stream",
          "name": "stdout",
          "text": [
            "Requirement already satisfied: arff2pandas==1.0.1 in /usr/local/lib/python3.7/dist-packages (1.0.1)\n",
            "Requirement already satisfied: pandas in /usr/local/lib/python3.7/dist-packages (from arff2pandas==1.0.1) (1.3.5)\n",
            "Requirement already satisfied: liac-arff in /usr/local/lib/python3.7/dist-packages (from arff2pandas==1.0.1) (2.5.0)\n",
            "Requirement already satisfied: python-dateutil>=2.7.3 in /usr/local/lib/python3.7/dist-packages (from pandas->arff2pandas==1.0.1) (2.8.2)\n",
            "Requirement already satisfied: numpy>=1.17.3 in /usr/local/lib/python3.7/dist-packages (from pandas->arff2pandas==1.0.1) (1.19.5)\n",
            "Requirement already satisfied: pytz>=2017.3 in /usr/local/lib/python3.7/dist-packages (from pandas->arff2pandas==1.0.1) (2018.9)\n",
            "Requirement already satisfied: six>=1.5 in /usr/local/lib/python3.7/dist-packages (from python-dateutil>=2.7.3->pandas->arff2pandas==1.0.1) (1.15.0)\n"
          ]
        }
      ]
    },
    {
      "cell_type": "code",
      "source": [
        "df = train.append(test)\n",
        "df = df.sample(frac=1.0)\n",
        "df.shape"
      ],
      "metadata": {
        "colab": {
          "base_uri": "https://localhost:8080/"
        },
        "id": "IiuN8B1e3z8A",
        "outputId": "9a6abb4d-caaf-49a2-adc3-bfe69d39f057"
      },
      "execution_count": 27,
      "outputs": [
        {
          "output_type": "execute_result",
          "data": {
            "text/plain": [
              "(5000, 141)"
            ]
          },
          "metadata": {},
          "execution_count": 27
        }
      ]
    },
    {
      "cell_type": "code",
      "source": [
        "CLASS_NORMAL = 1\n",
        "class_names = ['Normal','R on T','PVC','SP','UB']"
      ],
      "metadata": {
        "id": "lgJjTiNT33J0"
      },
      "execution_count": 28,
      "outputs": []
    },
    {
      "cell_type": "code",
      "source": [
        "new_columns = list(df.columns)\n",
        "new_columns[-1] = 'target'\n",
        "df.columns = new_columns\n",
        "df.head()"
      ],
      "metadata": {
        "colab": {
          "base_uri": "https://localhost:8080/",
          "height": 300
        },
        "id": "JYt9uXx934qF",
        "outputId": "a686ee95-c440-432e-d185-3aa26e180079"
      },
      "execution_count": 29,
      "outputs": [
        {
          "output_type": "execute_result",
          "data": {
            "text/html": [
              "\n",
              "  <div id=\"df-df0ced1b-c285-4580-91d8-1cf70cf533e8\">\n",
              "    <div class=\"colab-df-container\">\n",
              "      <div>\n",
              "<style scoped>\n",
              "    .dataframe tbody tr th:only-of-type {\n",
              "        vertical-align: middle;\n",
              "    }\n",
              "\n",
              "    .dataframe tbody tr th {\n",
              "        vertical-align: top;\n",
              "    }\n",
              "\n",
              "    .dataframe thead th {\n",
              "        text-align: right;\n",
              "    }\n",
              "</style>\n",
              "<table border=\"1\" class=\"dataframe\">\n",
              "  <thead>\n",
              "    <tr style=\"text-align: right;\">\n",
              "      <th></th>\n",
              "      <th>att1@NUMERIC</th>\n",
              "      <th>att2@NUMERIC</th>\n",
              "      <th>att3@NUMERIC</th>\n",
              "      <th>att4@NUMERIC</th>\n",
              "      <th>att5@NUMERIC</th>\n",
              "      <th>att6@NUMERIC</th>\n",
              "      <th>att7@NUMERIC</th>\n",
              "      <th>att8@NUMERIC</th>\n",
              "      <th>att9@NUMERIC</th>\n",
              "      <th>att10@NUMERIC</th>\n",
              "      <th>att11@NUMERIC</th>\n",
              "      <th>att12@NUMERIC</th>\n",
              "      <th>att13@NUMERIC</th>\n",
              "      <th>att14@NUMERIC</th>\n",
              "      <th>att15@NUMERIC</th>\n",
              "      <th>att16@NUMERIC</th>\n",
              "      <th>att17@NUMERIC</th>\n",
              "      <th>att18@NUMERIC</th>\n",
              "      <th>att19@NUMERIC</th>\n",
              "      <th>att20@NUMERIC</th>\n",
              "      <th>att21@NUMERIC</th>\n",
              "      <th>att22@NUMERIC</th>\n",
              "      <th>att23@NUMERIC</th>\n",
              "      <th>att24@NUMERIC</th>\n",
              "      <th>att25@NUMERIC</th>\n",
              "      <th>att26@NUMERIC</th>\n",
              "      <th>att27@NUMERIC</th>\n",
              "      <th>att28@NUMERIC</th>\n",
              "      <th>att29@NUMERIC</th>\n",
              "      <th>att30@NUMERIC</th>\n",
              "      <th>att31@NUMERIC</th>\n",
              "      <th>att32@NUMERIC</th>\n",
              "      <th>att33@NUMERIC</th>\n",
              "      <th>att34@NUMERIC</th>\n",
              "      <th>att35@NUMERIC</th>\n",
              "      <th>att36@NUMERIC</th>\n",
              "      <th>att37@NUMERIC</th>\n",
              "      <th>att38@NUMERIC</th>\n",
              "      <th>att39@NUMERIC</th>\n",
              "      <th>att40@NUMERIC</th>\n",
              "      <th>...</th>\n",
              "      <th>att102@NUMERIC</th>\n",
              "      <th>att103@NUMERIC</th>\n",
              "      <th>att104@NUMERIC</th>\n",
              "      <th>att105@NUMERIC</th>\n",
              "      <th>att106@NUMERIC</th>\n",
              "      <th>att107@NUMERIC</th>\n",
              "      <th>att108@NUMERIC</th>\n",
              "      <th>att109@NUMERIC</th>\n",
              "      <th>att110@NUMERIC</th>\n",
              "      <th>att111@NUMERIC</th>\n",
              "      <th>att112@NUMERIC</th>\n",
              "      <th>att113@NUMERIC</th>\n",
              "      <th>att114@NUMERIC</th>\n",
              "      <th>att115@NUMERIC</th>\n",
              "      <th>att116@NUMERIC</th>\n",
              "      <th>att117@NUMERIC</th>\n",
              "      <th>att118@NUMERIC</th>\n",
              "      <th>att119@NUMERIC</th>\n",
              "      <th>att120@NUMERIC</th>\n",
              "      <th>att121@NUMERIC</th>\n",
              "      <th>att122@NUMERIC</th>\n",
              "      <th>att123@NUMERIC</th>\n",
              "      <th>att124@NUMERIC</th>\n",
              "      <th>att125@NUMERIC</th>\n",
              "      <th>att126@NUMERIC</th>\n",
              "      <th>att127@NUMERIC</th>\n",
              "      <th>att128@NUMERIC</th>\n",
              "      <th>att129@NUMERIC</th>\n",
              "      <th>att130@NUMERIC</th>\n",
              "      <th>att131@NUMERIC</th>\n",
              "      <th>att132@NUMERIC</th>\n",
              "      <th>att133@NUMERIC</th>\n",
              "      <th>att134@NUMERIC</th>\n",
              "      <th>att135@NUMERIC</th>\n",
              "      <th>att136@NUMERIC</th>\n",
              "      <th>att137@NUMERIC</th>\n",
              "      <th>att138@NUMERIC</th>\n",
              "      <th>att139@NUMERIC</th>\n",
              "      <th>att140@NUMERIC</th>\n",
              "      <th>target</th>\n",
              "    </tr>\n",
              "  </thead>\n",
              "  <tbody>\n",
              "    <tr>\n",
              "      <th>1875</th>\n",
              "      <td>-0.515724</td>\n",
              "      <td>-1.563554</td>\n",
              "      <td>-2.039355</td>\n",
              "      <td>-2.898245</td>\n",
              "      <td>-3.326277</td>\n",
              "      <td>-3.170517</td>\n",
              "      <td>-2.548977</td>\n",
              "      <td>-1.911863</td>\n",
              "      <td>-1.699591</td>\n",
              "      <td>-1.372376</td>\n",
              "      <td>-1.020362</td>\n",
              "      <td>-0.922213</td>\n",
              "      <td>-0.966101</td>\n",
              "      <td>-0.978622</td>\n",
              "      <td>-0.908839</td>\n",
              "      <td>-0.891281</td>\n",
              "      <td>-0.848366</td>\n",
              "      <td>-0.856182</td>\n",
              "      <td>-0.839674</td>\n",
              "      <td>-0.876918</td>\n",
              "      <td>-0.884090</td>\n",
              "      <td>-0.859448</td>\n",
              "      <td>-0.857008</td>\n",
              "      <td>-0.868380</td>\n",
              "      <td>-0.848084</td>\n",
              "      <td>-0.831820</td>\n",
              "      <td>-0.848542</td>\n",
              "      <td>-0.881871</td>\n",
              "      <td>-0.914590</td>\n",
              "      <td>-0.959541</td>\n",
              "      <td>-0.882972</td>\n",
              "      <td>-0.850895</td>\n",
              "      <td>-0.925463</td>\n",
              "      <td>-0.910213</td>\n",
              "      <td>-0.887208</td>\n",
              "      <td>-0.949472</td>\n",
              "      <td>-0.939005</td>\n",
              "      <td>-0.886993</td>\n",
              "      <td>-0.811330</td>\n",
              "      <td>-0.803310</td>\n",
              "      <td>...</td>\n",
              "      <td>1.127099</td>\n",
              "      <td>1.329905</td>\n",
              "      <td>1.462641</td>\n",
              "      <td>1.489241</td>\n",
              "      <td>1.471211</td>\n",
              "      <td>1.413858</td>\n",
              "      <td>1.337590</td>\n",
              "      <td>1.279013</td>\n",
              "      <td>1.168654</td>\n",
              "      <td>1.107210</td>\n",
              "      <td>0.968192</td>\n",
              "      <td>0.831306</td>\n",
              "      <td>0.671466</td>\n",
              "      <td>0.592054</td>\n",
              "      <td>0.601736</td>\n",
              "      <td>0.602660</td>\n",
              "      <td>0.575638</td>\n",
              "      <td>0.628223</td>\n",
              "      <td>0.643105</td>\n",
              "      <td>0.605819</td>\n",
              "      <td>0.649243</td>\n",
              "      <td>0.701145</td>\n",
              "      <td>0.702836</td>\n",
              "      <td>0.767408</td>\n",
              "      <td>0.724568</td>\n",
              "      <td>0.800958</td>\n",
              "      <td>0.789068</td>\n",
              "      <td>0.913059</td>\n",
              "      <td>1.228823</td>\n",
              "      <td>1.666924</td>\n",
              "      <td>1.858426</td>\n",
              "      <td>1.846428</td>\n",
              "      <td>1.997877</td>\n",
              "      <td>1.932873</td>\n",
              "      <td>1.515578</td>\n",
              "      <td>1.082825</td>\n",
              "      <td>0.833412</td>\n",
              "      <td>1.112503</td>\n",
              "      <td>0.809461</td>\n",
              "      <td>1</td>\n",
              "    </tr>\n",
              "    <tr>\n",
              "      <th>487</th>\n",
              "      <td>-1.926975</td>\n",
              "      <td>-3.202321</td>\n",
              "      <td>-3.563273</td>\n",
              "      <td>-4.052199</td>\n",
              "      <td>-3.923935</td>\n",
              "      <td>-3.445560</td>\n",
              "      <td>-2.188009</td>\n",
              "      <td>-1.502844</td>\n",
              "      <td>-1.386959</td>\n",
              "      <td>-0.850036</td>\n",
              "      <td>-0.349304</td>\n",
              "      <td>-0.293085</td>\n",
              "      <td>-0.458592</td>\n",
              "      <td>-0.264808</td>\n",
              "      <td>-0.227025</td>\n",
              "      <td>-0.415025</td>\n",
              "      <td>-0.326104</td>\n",
              "      <td>-0.308613</td>\n",
              "      <td>-0.336898</td>\n",
              "      <td>-0.318364</td>\n",
              "      <td>-0.312430</td>\n",
              "      <td>-0.290440</td>\n",
              "      <td>-0.295316</td>\n",
              "      <td>-0.249989</td>\n",
              "      <td>-0.318646</td>\n",
              "      <td>-0.361256</td>\n",
              "      <td>-0.239630</td>\n",
              "      <td>-0.245579</td>\n",
              "      <td>-0.418083</td>\n",
              "      <td>-0.311350</td>\n",
              "      <td>-0.341749</td>\n",
              "      <td>-0.281837</td>\n",
              "      <td>-0.316936</td>\n",
              "      <td>-0.329075</td>\n",
              "      <td>-0.180566</td>\n",
              "      <td>-0.352081</td>\n",
              "      <td>-0.296351</td>\n",
              "      <td>-0.115320</td>\n",
              "      <td>-0.172687</td>\n",
              "      <td>-0.158302</td>\n",
              "      <td>...</td>\n",
              "      <td>1.887204</td>\n",
              "      <td>1.837928</td>\n",
              "      <td>1.848501</td>\n",
              "      <td>1.749516</td>\n",
              "      <td>1.507207</td>\n",
              "      <td>1.418692</td>\n",
              "      <td>1.176951</td>\n",
              "      <td>0.835518</td>\n",
              "      <td>0.784116</td>\n",
              "      <td>0.544970</td>\n",
              "      <td>0.076138</td>\n",
              "      <td>-0.117321</td>\n",
              "      <td>-0.211492</td>\n",
              "      <td>-0.163972</td>\n",
              "      <td>-0.181614</td>\n",
              "      <td>-0.214346</td>\n",
              "      <td>-0.152542</td>\n",
              "      <td>-0.222816</td>\n",
              "      <td>-0.166882</td>\n",
              "      <td>-0.226478</td>\n",
              "      <td>-0.249343</td>\n",
              "      <td>-0.234265</td>\n",
              "      <td>-0.262405</td>\n",
              "      <td>-0.294147</td>\n",
              "      <td>-0.284424</td>\n",
              "      <td>-0.317254</td>\n",
              "      <td>-0.160417</td>\n",
              "      <td>0.170303</td>\n",
              "      <td>0.761621</td>\n",
              "      <td>1.364653</td>\n",
              "      <td>1.433619</td>\n",
              "      <td>1.205813</td>\n",
              "      <td>0.749533</td>\n",
              "      <td>0.128525</td>\n",
              "      <td>-0.796649</td>\n",
              "      <td>-1.455348</td>\n",
              "      <td>-1.631959</td>\n",
              "      <td>-1.303783</td>\n",
              "      <td>-1.446336</td>\n",
              "      <td>1</td>\n",
              "    </tr>\n",
              "    <tr>\n",
              "      <th>2421</th>\n",
              "      <td>0.077462</td>\n",
              "      <td>-2.209479</td>\n",
              "      <td>-3.535134</td>\n",
              "      <td>-4.665829</td>\n",
              "      <td>-4.281586</td>\n",
              "      <td>-3.217774</td>\n",
              "      <td>-2.010526</td>\n",
              "      <td>-1.510237</td>\n",
              "      <td>-1.312390</td>\n",
              "      <td>-0.430909</td>\n",
              "      <td>-0.289843</td>\n",
              "      <td>-0.506270</td>\n",
              "      <td>-0.249146</td>\n",
              "      <td>-0.266946</td>\n",
              "      <td>-0.400171</td>\n",
              "      <td>-0.321693</td>\n",
              "      <td>-0.202644</td>\n",
              "      <td>-0.057628</td>\n",
              "      <td>-0.452864</td>\n",
              "      <td>-0.655358</td>\n",
              "      <td>-0.507753</td>\n",
              "      <td>-0.487986</td>\n",
              "      <td>-0.391568</td>\n",
              "      <td>-0.463196</td>\n",
              "      <td>-0.409911</td>\n",
              "      <td>-0.412647</td>\n",
              "      <td>-0.692174</td>\n",
              "      <td>-0.538243</td>\n",
              "      <td>-0.550652</td>\n",
              "      <td>-0.454352</td>\n",
              "      <td>-0.607019</td>\n",
              "      <td>-0.723087</td>\n",
              "      <td>-0.610996</td>\n",
              "      <td>-0.488185</td>\n",
              "      <td>-0.705533</td>\n",
              "      <td>-0.849366</td>\n",
              "      <td>-0.899428</td>\n",
              "      <td>-0.806360</td>\n",
              "      <td>-0.733559</td>\n",
              "      <td>-0.609290</td>\n",
              "      <td>...</td>\n",
              "      <td>1.158190</td>\n",
              "      <td>1.601062</td>\n",
              "      <td>2.097801</td>\n",
              "      <td>2.201393</td>\n",
              "      <td>1.977577</td>\n",
              "      <td>1.859818</td>\n",
              "      <td>1.925356</td>\n",
              "      <td>1.697352</td>\n",
              "      <td>1.129393</td>\n",
              "      <td>0.976534</td>\n",
              "      <td>0.740752</td>\n",
              "      <td>0.047082</td>\n",
              "      <td>-0.135876</td>\n",
              "      <td>-0.383724</td>\n",
              "      <td>-0.306727</td>\n",
              "      <td>-0.270920</td>\n",
              "      <td>-0.513780</td>\n",
              "      <td>-0.466575</td>\n",
              "      <td>-0.315927</td>\n",
              "      <td>-0.421448</td>\n",
              "      <td>-0.407559</td>\n",
              "      <td>-0.291907</td>\n",
              "      <td>-0.246502</td>\n",
              "      <td>-0.367585</td>\n",
              "      <td>-0.372237</td>\n",
              "      <td>-0.207073</td>\n",
              "      <td>-0.109410</td>\n",
              "      <td>-0.149136</td>\n",
              "      <td>0.074514</td>\n",
              "      <td>0.842265</td>\n",
              "      <td>1.233373</td>\n",
              "      <td>0.865505</td>\n",
              "      <td>0.793086</td>\n",
              "      <td>0.442236</td>\n",
              "      <td>-0.134369</td>\n",
              "      <td>-0.003038</td>\n",
              "      <td>0.472147</td>\n",
              "      <td>0.978863</td>\n",
              "      <td>-0.661881</td>\n",
              "      <td>1</td>\n",
              "    </tr>\n",
              "    <tr>\n",
              "      <th>2051</th>\n",
              "      <td>3.279402</td>\n",
              "      <td>1.014344</td>\n",
              "      <td>-1.426537</td>\n",
              "      <td>-3.605481</td>\n",
              "      <td>-4.517397</td>\n",
              "      <td>-3.837551</td>\n",
              "      <td>-2.649532</td>\n",
              "      <td>-1.407748</td>\n",
              "      <td>-1.068023</td>\n",
              "      <td>-0.489046</td>\n",
              "      <td>0.547282</td>\n",
              "      <td>0.745563</td>\n",
              "      <td>0.673006</td>\n",
              "      <td>0.694532</td>\n",
              "      <td>0.741441</td>\n",
              "      <td>0.514460</td>\n",
              "      <td>0.587786</td>\n",
              "      <td>0.749429</td>\n",
              "      <td>0.541841</td>\n",
              "      <td>0.533402</td>\n",
              "      <td>0.408923</td>\n",
              "      <td>0.481332</td>\n",
              "      <td>0.306213</td>\n",
              "      <td>0.282587</td>\n",
              "      <td>0.204935</td>\n",
              "      <td>0.176757</td>\n",
              "      <td>0.149203</td>\n",
              "      <td>0.091870</td>\n",
              "      <td>-0.034247</td>\n",
              "      <td>-0.050162</td>\n",
              "      <td>-0.268738</td>\n",
              "      <td>-0.284639</td>\n",
              "      <td>-0.308189</td>\n",
              "      <td>-0.500110</td>\n",
              "      <td>-0.485943</td>\n",
              "      <td>-0.517859</td>\n",
              "      <td>-0.476606</td>\n",
              "      <td>-0.550523</td>\n",
              "      <td>-0.517302</td>\n",
              "      <td>-0.534807</td>\n",
              "      <td>...</td>\n",
              "      <td>1.249263</td>\n",
              "      <td>1.567595</td>\n",
              "      <td>1.755620</td>\n",
              "      <td>1.718803</td>\n",
              "      <td>1.683368</td>\n",
              "      <td>1.436436</td>\n",
              "      <td>1.299959</td>\n",
              "      <td>0.955440</td>\n",
              "      <td>0.562811</td>\n",
              "      <td>0.150114</td>\n",
              "      <td>-0.434847</td>\n",
              "      <td>-0.869522</td>\n",
              "      <td>-1.025836</td>\n",
              "      <td>-1.100807</td>\n",
              "      <td>-1.170299</td>\n",
              "      <td>-1.196387</td>\n",
              "      <td>-1.294555</td>\n",
              "      <td>-1.346338</td>\n",
              "      <td>-1.388476</td>\n",
              "      <td>-1.441901</td>\n",
              "      <td>-1.323808</td>\n",
              "      <td>-1.295057</td>\n",
              "      <td>-1.257896</td>\n",
              "      <td>-1.235020</td>\n",
              "      <td>-1.218740</td>\n",
              "      <td>-1.324265</td>\n",
              "      <td>-1.445111</td>\n",
              "      <td>-1.106648</td>\n",
              "      <td>-0.508935</td>\n",
              "      <td>0.019747</td>\n",
              "      <td>-0.109968</td>\n",
              "      <td>0.096253</td>\n",
              "      <td>0.645552</td>\n",
              "      <td>0.584498</td>\n",
              "      <td>0.111160</td>\n",
              "      <td>0.008799</td>\n",
              "      <td>0.548989</td>\n",
              "      <td>1.072025</td>\n",
              "      <td>-1.660600</td>\n",
              "      <td>1</td>\n",
              "    </tr>\n",
              "    <tr>\n",
              "      <th>28</th>\n",
              "      <td>-3.527899</td>\n",
              "      <td>-5.117621</td>\n",
              "      <td>-4.634885</td>\n",
              "      <td>-4.226482</td>\n",
              "      <td>-3.100461</td>\n",
              "      <td>-1.897723</td>\n",
              "      <td>-1.306379</td>\n",
              "      <td>-0.952464</td>\n",
              "      <td>-0.228996</td>\n",
              "      <td>-0.096763</td>\n",
              "      <td>-0.100399</td>\n",
              "      <td>-0.145316</td>\n",
              "      <td>-0.226732</td>\n",
              "      <td>-0.208631</td>\n",
              "      <td>-0.118700</td>\n",
              "      <td>-0.123267</td>\n",
              "      <td>-0.112701</td>\n",
              "      <td>-0.092833</td>\n",
              "      <td>-0.118361</td>\n",
              "      <td>-0.164584</td>\n",
              "      <td>-0.207243</td>\n",
              "      <td>-0.235473</td>\n",
              "      <td>-0.203294</td>\n",
              "      <td>-0.311387</td>\n",
              "      <td>-0.209280</td>\n",
              "      <td>-0.336253</td>\n",
              "      <td>-0.323848</td>\n",
              "      <td>-0.303438</td>\n",
              "      <td>-0.463151</td>\n",
              "      <td>-0.468100</td>\n",
              "      <td>-0.525225</td>\n",
              "      <td>-0.517092</td>\n",
              "      <td>-0.490902</td>\n",
              "      <td>-0.519797</td>\n",
              "      <td>-0.482997</td>\n",
              "      <td>-0.525021</td>\n",
              "      <td>-0.478641</td>\n",
              "      <td>-0.449876</td>\n",
              "      <td>-0.371062</td>\n",
              "      <td>-0.382658</td>\n",
              "      <td>...</td>\n",
              "      <td>1.618520</td>\n",
              "      <td>1.907795</td>\n",
              "      <td>1.756346</td>\n",
              "      <td>1.751461</td>\n",
              "      <td>1.608090</td>\n",
              "      <td>1.509252</td>\n",
              "      <td>1.140091</td>\n",
              "      <td>1.028019</td>\n",
              "      <td>0.763897</td>\n",
              "      <td>0.301821</td>\n",
              "      <td>0.097500</td>\n",
              "      <td>-0.281988</td>\n",
              "      <td>-0.316876</td>\n",
              "      <td>-0.301895</td>\n",
              "      <td>-0.423909</td>\n",
              "      <td>-0.354103</td>\n",
              "      <td>-0.460573</td>\n",
              "      <td>-0.421650</td>\n",
              "      <td>-0.370226</td>\n",
              "      <td>-0.367381</td>\n",
              "      <td>-0.339859</td>\n",
              "      <td>-0.496811</td>\n",
              "      <td>-0.430256</td>\n",
              "      <td>-0.374153</td>\n",
              "      <td>-0.321475</td>\n",
              "      <td>-0.335271</td>\n",
              "      <td>-0.257285</td>\n",
              "      <td>-0.033733</td>\n",
              "      <td>0.350220</td>\n",
              "      <td>0.685109</td>\n",
              "      <td>0.756051</td>\n",
              "      <td>0.967958</td>\n",
              "      <td>0.975465</td>\n",
              "      <td>0.914873</td>\n",
              "      <td>0.640022</td>\n",
              "      <td>0.511706</td>\n",
              "      <td>0.523466</td>\n",
              "      <td>0.805130</td>\n",
              "      <td>-0.912395</td>\n",
              "      <td>1</td>\n",
              "    </tr>\n",
              "  </tbody>\n",
              "</table>\n",
              "<p>5 rows × 141 columns</p>\n",
              "</div>\n",
              "      <button class=\"colab-df-convert\" onclick=\"convertToInteractive('df-df0ced1b-c285-4580-91d8-1cf70cf533e8')\"\n",
              "              title=\"Convert this dataframe to an interactive table.\"\n",
              "              style=\"display:none;\">\n",
              "        \n",
              "  <svg xmlns=\"http://www.w3.org/2000/svg\" height=\"24px\"viewBox=\"0 0 24 24\"\n",
              "       width=\"24px\">\n",
              "    <path d=\"M0 0h24v24H0V0z\" fill=\"none\"/>\n",
              "    <path d=\"M18.56 5.44l.94 2.06.94-2.06 2.06-.94-2.06-.94-.94-2.06-.94 2.06-2.06.94zm-11 1L8.5 8.5l.94-2.06 2.06-.94-2.06-.94L8.5 2.5l-.94 2.06-2.06.94zm10 10l.94 2.06.94-2.06 2.06-.94-2.06-.94-.94-2.06-.94 2.06-2.06.94z\"/><path d=\"M17.41 7.96l-1.37-1.37c-.4-.4-.92-.59-1.43-.59-.52 0-1.04.2-1.43.59L10.3 9.45l-7.72 7.72c-.78.78-.78 2.05 0 2.83L4 21.41c.39.39.9.59 1.41.59.51 0 1.02-.2 1.41-.59l7.78-7.78 2.81-2.81c.8-.78.8-2.07 0-2.86zM5.41 20L4 18.59l7.72-7.72 1.47 1.35L5.41 20z\"/>\n",
              "  </svg>\n",
              "      </button>\n",
              "      \n",
              "  <style>\n",
              "    .colab-df-container {\n",
              "      display:flex;\n",
              "      flex-wrap:wrap;\n",
              "      gap: 12px;\n",
              "    }\n",
              "\n",
              "    .colab-df-convert {\n",
              "      background-color: #E8F0FE;\n",
              "      border: none;\n",
              "      border-radius: 50%;\n",
              "      cursor: pointer;\n",
              "      display: none;\n",
              "      fill: #1967D2;\n",
              "      height: 32px;\n",
              "      padding: 0 0 0 0;\n",
              "      width: 32px;\n",
              "    }\n",
              "\n",
              "    .colab-df-convert:hover {\n",
              "      background-color: #E2EBFA;\n",
              "      box-shadow: 0px 1px 2px rgba(60, 64, 67, 0.3), 0px 1px 3px 1px rgba(60, 64, 67, 0.15);\n",
              "      fill: #174EA6;\n",
              "    }\n",
              "\n",
              "    [theme=dark] .colab-df-convert {\n",
              "      background-color: #3B4455;\n",
              "      fill: #D2E3FC;\n",
              "    }\n",
              "\n",
              "    [theme=dark] .colab-df-convert:hover {\n",
              "      background-color: #434B5C;\n",
              "      box-shadow: 0px 1px 3px 1px rgba(0, 0, 0, 0.15);\n",
              "      filter: drop-shadow(0px 1px 2px rgba(0, 0, 0, 0.3));\n",
              "      fill: #FFFFFF;\n",
              "    }\n",
              "  </style>\n",
              "\n",
              "      <script>\n",
              "        const buttonEl =\n",
              "          document.querySelector('#df-df0ced1b-c285-4580-91d8-1cf70cf533e8 button.colab-df-convert');\n",
              "        buttonEl.style.display =\n",
              "          google.colab.kernel.accessAllowed ? 'block' : 'none';\n",
              "\n",
              "        async function convertToInteractive(key) {\n",
              "          const element = document.querySelector('#df-df0ced1b-c285-4580-91d8-1cf70cf533e8');\n",
              "          const dataTable =\n",
              "            await google.colab.kernel.invokeFunction('convertToInteractive',\n",
              "                                                     [key], {});\n",
              "          if (!dataTable) return;\n",
              "\n",
              "          const docLinkHtml = 'Like what you see? Visit the ' +\n",
              "            '<a target=\"_blank\" href=https://colab.research.google.com/notebooks/data_table.ipynb>data table notebook</a>'\n",
              "            + ' to learn more about interactive tables.';\n",
              "          element.innerHTML = '';\n",
              "          dataTable['output_type'] = 'display_data';\n",
              "          await google.colab.output.renderOutput(dataTable, element);\n",
              "          const docLink = document.createElement('div');\n",
              "          docLink.innerHTML = docLinkHtml;\n",
              "          element.appendChild(docLink);\n",
              "        }\n",
              "      </script>\n",
              "    </div>\n",
              "  </div>\n",
              "  "
            ],
            "text/plain": [
              "      att1@NUMERIC  att2@NUMERIC  ...  att140@NUMERIC  target\n",
              "1875     -0.515724     -1.563554  ...        0.809461       1\n",
              "487      -1.926975     -3.202321  ...       -1.446336       1\n",
              "2421      0.077462     -2.209479  ...       -0.661881       1\n",
              "2051      3.279402      1.014344  ...       -1.660600       1\n",
              "28       -3.527899     -5.117621  ...       -0.912395       1\n",
              "\n",
              "[5 rows x 141 columns]"
            ]
          },
          "metadata": {},
          "execution_count": 29
        }
      ]
    },
    {
      "cell_type": "code",
      "source": [
        "df.target.value_counts()"
      ],
      "metadata": {
        "colab": {
          "base_uri": "https://localhost:8080/"
        },
        "id": "056zeYRI37Mr",
        "outputId": "d16ec32e-cad6-4530-d4cd-64f9a8202edf"
      },
      "execution_count": 30,
      "outputs": [
        {
          "output_type": "execute_result",
          "data": {
            "text/plain": [
              "1    2919\n",
              "2    1767\n",
              "4     194\n",
              "3      96\n",
              "5      24\n",
              "Name: target, dtype: int64"
            ]
          },
          "metadata": {},
          "execution_count": 30
        }
      ]
    },
    {
      "cell_type": "code",
      "source": [
        "df.target.value_counts().plot.bar()"
      ],
      "metadata": {
        "colab": {
          "base_uri": "https://localhost:8080/",
          "height": 280
        },
        "id": "gSeMXo7V59jt",
        "outputId": "254b43bc-065c-4149-9585-23bd94188b3a"
      },
      "execution_count": 37,
      "outputs": [
        {
          "output_type": "execute_result",
          "data": {
            "text/plain": [
              "<matplotlib.axes._subplots.AxesSubplot at 0x7f2dc4d149d0>"
            ]
          },
          "metadata": {},
          "execution_count": 37
        },
        {
          "output_type": "display_data",
          "data": {
            "image/png": "[encoded data removed]",
            "text/plain": [
              "<Figure size 432x288 with 1 Axes>"
            ]
          },
          "metadata": {
            "needs_background": "light"
          }
        }
      ]
    },
    {
      "cell_type": "code",
      "source": [
        "fig, axes = plt.subplots(5)\n",
        "fig.tight_layout()\n",
        "for i in range(5):\n",
        "  _df = df[df.target == str(i+1)].drop(labels='target', axis=1)\n",
        "  _df.median().plot(ax=axes[i],title=class_names[i],figsize=(3,10))"
      ],
      "metadata": {
        "colab": {
          "base_uri": "https://localhost:8080/",
          "height": 676
        },
        "id": "vJeRbdSnBcQG",
        "outputId": "4b5d57e2-65c3-48b6-98d6-03d801526a6c"
      },
      "execution_count": 92,
      "outputs": [
        {
          "output_type": "display_data",
          "data": {
            "image/png": "[encoded data removed]",
            "text/plain": [
              "<Figure size 216x720 with 5 Axes>"
            ]
          },
          "metadata": {
            "needs_background": "light"
          }
        }
      ]
    },
    {
      "cell_type": "code",
      "source": [
        "normal_df = df[df.target == str(CLASS_NORMAL)].drop(labels='target', axis=1)\n",
        "normal_df.shape"
      ],
      "metadata": {
        "colab": {
          "base_uri": "https://localhost:8080/"
        },
        "id": "YqIM5v456LJz",
        "outputId": "af4f3f3c-7f0e-42d6-8ecf-fba610bffdd1"
      },
      "execution_count": 85,
      "outputs": [
        {
          "output_type": "execute_result",
          "data": {
            "text/plain": [
              "(2919, 140)"
            ]
          },
          "metadata": {},
          "execution_count": 85
        }
      ]
    },
    {
      "cell_type": "code",
      "source": [
        "anomaly_df = df[df.target != str(CLASS_NORMAL)].drop(labels='target', axis=1)\n",
        "anomaly_df.shape"
      ],
      "metadata": {
        "colab": {
          "base_uri": "https://localhost:8080/"
        },
        "id": "qbY3BlIP6Mfv",
        "outputId": "8cca72c1-7f16-41b7-da5d-92a8e977292f"
      },
      "execution_count": 54,
      "outputs": [
        {
          "output_type": "execute_result",
          "data": {
            "text/plain": [
              "(2081, 140)"
            ]
          },
          "metadata": {},
          "execution_count": 54
        }
      ]
    },
    {
      "cell_type": "code",
      "source": [
        "from sklearn.model_selection import train_test_split\n",
        "from sklearn.metrics import r2_score\n",
        "RANDOM_SEED = 0\n",
        "\n",
        "train_df, val_df = train_test_split(\n",
        "  normal_df,\n",
        "  test_size=0.15,\n",
        "  random_state=RANDOM_SEED\n",
        ")\n",
        "val_df, test_df = train_test_split(\n",
        "  val_df,\n",
        "  test_size=0.33,\n",
        "  random_state=RANDOM_SEED\n",
        ")"
      ],
      "metadata": {
        "id": "JGnyn-lW6O6q"
      },
      "execution_count": 58,
      "outputs": []
    },
    {
      "cell_type": "code",
      "source": [
        "def create_dataset(df):\n",
        "  sequences = df.astype(np.float32).to_numpy().tolist()\n",
        "  dataset = [torch.tensor(s).unsqueeze(1).float() for s in sequences]\n",
        "  n_seq, seq_len, n_features = torch.stack(dataset).shape\n",
        "  return dataset, seq_len, n_features"
      ],
      "metadata": {
        "id": "g8IOZoAy6QWN"
      },
      "execution_count": 59,
      "outputs": []
    },
    {
      "cell_type": "code",
      "source": [
        "train_dataset, seq_len, n_features = create_dataset(train_df)\n",
        "val_dataset, _, _ = create_dataset(val_df)\n",
        "test_normal_dataset, _, _ = create_dataset(test_df)\n",
        "test_anomaly_dataset, _, _ = create_dataset(anomaly_df)"
      ],
      "metadata": {
        "id": "6EMwcZj66RpL"
      },
      "execution_count": 60,
      "outputs": []
    },
    {
      "cell_type": "code",
      "source": [
        "\n",
        "import torch\n",
        "import torch.nn as nn\n",
        "import torch.nn.functional as F\n",
        "from torch.utils.data import DataLoader\n",
        "\n",
        "class Encoder(nn.Module):\n",
        "  def __init__(self, seq_len, n_features, embedding_dim=64):\n",
        "    super(Encoder, self).__init__()\n",
        "    self.seq_len, self.n_features = seq_len, n_features\n",
        "    self.embedding_dim, self.hidden_dim = embedding_dim, 2 * embedding_dim\n",
        "    self.rnn1 = nn.LSTM(\n",
        "      input_size=n_features,\n",
        "      hidden_size=self.hidden_dim,\n",
        "      num_layers=1,\n",
        "      batch_first=True\n",
        "    )\n",
        "    self.rnn2 = nn.LSTM(\n",
        "      input_size=self.hidden_dim,\n",
        "      hidden_size=embedding_dim,\n",
        "      num_layers=1,\n",
        "      batch_first=True\n",
        "    )\n",
        "  def forward(self, x):\n",
        "    x = x.reshape((1, self.seq_len, self.n_features))\n",
        "    x, (_, _) = self.rnn1(x)\n",
        "    x, (hidden_n, _) = self.rnn2(x)\n",
        "    return hidden_n.reshape((self.n_features, self.embedding_dim))"
      ],
      "metadata": {
        "id": "dltJ8V6y6ULc"
      },
      "execution_count": 62,
      "outputs": []
    },
    {
      "cell_type": "code",
      "source": [
        "class Decoder(nn.Module):\n",
        "  def __init__(self, seq_len, input_dim=64, n_features=1):\n",
        "    super(Decoder, self).__init__()\n",
        "    self.seq_len, self.input_dim = seq_len, input_dim\n",
        "    self.hidden_dim, self.n_features = 2 * input_dim, n_features\n",
        "    self.rnn1 = nn.LSTM(\n",
        "      input_size=input_dim,\n",
        "      hidden_size=input_dim,\n",
        "      num_layers=1,\n",
        "      batch_first=True\n",
        "    )\n",
        "    self.rnn2 = nn.LSTM(\n",
        "      input_size=input_dim,\n",
        "      hidden_size=self.hidden_dim,\n",
        "      num_layers=1,\n",
        "      batch_first=True\n",
        "    )\n",
        "    self.output_layer = nn.Linear(self.hidden_dim, n_features)\n",
        "  def forward(self, x):\n",
        "    x = x.repeat(self.seq_len, self.n_features)\n",
        "    x = x.reshape((self.n_features, self.seq_len, self.input_dim))\n",
        "    x, (hidden_n, cell_n) = self.rnn1(x)\n",
        "    x, (hidden_n, cell_n) = self.rnn2(x)\n",
        "    x = x.reshape((self.seq_len, self.hidden_dim))\n",
        "    return self.output_layer(x)"
      ],
      "metadata": {
        "id": "L9EYVSOO6V7a"
      },
      "execution_count": 63,
      "outputs": []
    },
    {
      "cell_type": "code",
      "source": [
        "class RecurrentAutoencoder(nn.Module):\n",
        "  def __init__(self, seq_len, n_features, embedding_dim=64):\n",
        "    super(RecurrentAutoencoder, self).__init__()\n",
        "    self.encoder = Encoder(seq_len, n_features, embedding_dim).to(device)\n",
        "    self.decoder = Decoder(seq_len, embedding_dim, n_features).to(device)\n",
        "  def forward(self, x):\n",
        "    x = self.encoder(x)\n",
        "    x = self.decoder(x)\n",
        "    return x"
      ],
      "metadata": {
        "id": "FWePSFh_6YYR"
      },
      "execution_count": 64,
      "outputs": []
    },
    {
      "cell_type": "code",
      "source": [
        "model = RecurrentAutoencoder(seq_len, n_features, 128)\n",
        "model = model.to(device)"
      ],
      "metadata": {
        "id": "7AVRwfup6ZRd"
      },
      "execution_count": 65,
      "outputs": []
    },
    {
      "cell_type": "code",
      "source": [
        "import copy\n",
        "def train_model(model, train_dataset, val_dataset, n_epochs):\n",
        "  optimizer = torch.optim.Adam(model.parameters(), lr=1e-3)\n",
        "  criterion = nn.L1Loss(reduction='sum').to(device)\n",
        "  history = dict(train=[], val=[])\n",
        "  best_model_wts = copy.deepcopy(model.state_dict())\n",
        "  best_loss = 10000.0\n",
        "  for epoch in range(1, n_epochs + 1):\n",
        "    model = model.train()\n",
        "    train_losses = []\n",
        "    for seq_true in train_dataset:\n",
        "      optimizer.zero_grad()\n",
        "      seq_true = seq_true.to(device)\n",
        "      seq_pred = model(seq_true)\n",
        "      loss = criterion(seq_pred, seq_true)\n",
        "      loss.backward()\n",
        "      optimizer.step()\n",
        "      train_losses.append(loss.item())\n",
        "    val_losses = []\n",
        "    model = model.eval()\n",
        "    with torch.no_grad():\n",
        "      for seq_true in val_dataset:\n",
        "        seq_true = seq_true.to(device)\n",
        "        seq_pred = model(seq_true)\n",
        "        loss = criterion(seq_pred, seq_true)\n",
        "        val_losses.append(loss.item())\n",
        "    train_loss = np.mean(train_losses)\n",
        "    val_loss = np.mean(val_losses)\n",
        "    history['train'].append(train_loss)\n",
        "    history['val'].append(val_loss)\n",
        "    if val_loss < best_loss:\n",
        "      best_loss = val_loss\n",
        "      best_model_wts = copy.deepcopy(model.state_dict())\n",
        "    print(f'Epoch {epoch}: train loss {train_loss} val loss {val_loss}')\n",
        "  model.load_state_dict(best_model_wts)\n",
        "  return model.eval(), history"
      ],
      "metadata": {
        "id": "YsbhpaS36a4I"
      },
      "execution_count": 68,
      "outputs": []
    },
    {
      "cell_type": "code",
      "source": [
        "model, history = train_model(\n",
        "  model,\n",
        "  train_dataset,\n",
        "  val_dataset,\n",
        "  n_epochs=150\n",
        ")"
      ],
      "metadata": {
        "colab": {
          "base_uri": "https://localhost:8080/",
          "height": 401
        },
        "id": "qYW_8mBI6cKM",
        "outputId": "2f20a89d-6bfc-4b4f-db7d-1327d04d0cb2"
      },
      "execution_count": 69,
      "outputs": [
        {
          "output_type": "stream",
          "name": "stdout",
          "text": [
            "Epoch 1: train loss 62.17297584690523 val loss 54.34961458277784\n"
          ]
        },
        {
          "output_type": "error",
          "ename": "KeyboardInterrupt",
          "evalue": "ignored",
          "traceback": [
            "\u001b[0;31m---------------------------------------------------------------------------\u001b[0m",
            "\u001b[0;31mKeyboardInterrupt\u001b[0m                         Traceback (most recent call last)",
            "\u001b[0;32m<ipython-input-69-b2fb1846e668>\u001b[0m in \u001b[0;36m<module>\u001b[0;34m()\u001b[0m\n\u001b[1;32m      3\u001b[0m   \u001b[0mtrain_dataset\u001b[0m\u001b[0;34m,\u001b[0m\u001b[0;34m\u001b[0m\u001b[0;34m\u001b[0m\u001b[0m\n\u001b[1;32m      4\u001b[0m   \u001b[0mval_dataset\u001b[0m\u001b[0;34m,\u001b[0m\u001b[0;34m\u001b[0m\u001b[0;34m\u001b[0m\u001b[0m\n\u001b[0;32m----> 5\u001b[0;31m   \u001b[0mn_epochs\u001b[0m\u001b[0;34m=\u001b[0m\u001b[0;36m150\u001b[0m\u001b[0;34m\u001b[0m\u001b[0;34m\u001b[0m\u001b[0m\n\u001b[0m\u001b[1;32m      6\u001b[0m )\n",
            "\u001b[0;32m<ipython-input-68-790ddc8dbb36>\u001b[0m in \u001b[0;36mtrain_model\u001b[0;34m(model, train_dataset, val_dataset, n_epochs)\u001b[0m\n\u001b[1;32m     12\u001b[0m       \u001b[0moptimizer\u001b[0m\u001b[0;34m.\u001b[0m\u001b[0mzero_grad\u001b[0m\u001b[0;34m(\u001b[0m\u001b[0;34m)\u001b[0m\u001b[0;34m\u001b[0m\u001b[0;34m\u001b[0m\u001b[0m\n\u001b[1;32m     13\u001b[0m       \u001b[0mseq_true\u001b[0m \u001b[0;34m=\u001b[0m \u001b[0mseq_true\u001b[0m\u001b[0;34m.\u001b[0m\u001b[0mto\u001b[0m\u001b[0;34m(\u001b[0m\u001b[0mdevice\u001b[0m\u001b[0;34m)\u001b[0m\u001b[0;34m\u001b[0m\u001b[0;34m\u001b[0m\u001b[0m\n\u001b[0;32m---> 14\u001b[0;31m       \u001b[0mseq_pred\u001b[0m \u001b[0;34m=\u001b[0m \u001b[0mmodel\u001b[0m\u001b[0;34m(\u001b[0m\u001b[0mseq_true\u001b[0m\u001b[0;34m)\u001b[0m\u001b[0;34m\u001b[0m\u001b[0;34m\u001b[0m\u001b[0m\n\u001b[0m\u001b[1;32m     15\u001b[0m       \u001b[0mloss\u001b[0m \u001b[0;34m=\u001b[0m \u001b[0mcriterion\u001b[0m\u001b[0;34m(\u001b[0m\u001b[0mseq_pred\u001b[0m\u001b[0;34m,\u001b[0m \u001b[0mseq_true\u001b[0m\u001b[0;34m)\u001b[0m\u001b[0;34m\u001b[0m\u001b[0;34m\u001b[0m\u001b[0m\n\u001b[1;32m     16\u001b[0m       \u001b[0mloss\u001b[0m\u001b[0;34m.\u001b[0m\u001b[0mbackward\u001b[0m\u001b[0;34m(\u001b[0m\u001b[0;34m)\u001b[0m\u001b[0;34m\u001b[0m\u001b[0;34m\u001b[0m\u001b[0m\n",
            "\u001b[0;32m/usr/local/lib/python3.7/dist-packages/torch/nn/modules/module.py\u001b[0m in \u001b[0;36m_call_impl\u001b[0;34m(self, *input, **kwargs)\u001b[0m\n\u001b[1;32m   1100\u001b[0m         if not (self._backward_hooks or self._forward_hooks or self._forward_pre_hooks or _global_backward_hooks\n\u001b[1;32m   1101\u001b[0m                 or _global_forward_hooks or _global_forward_pre_hooks):\n\u001b[0;32m-> 1102\u001b[0;31m             \u001b[0;32mreturn\u001b[0m \u001b[0mforward_call\u001b[0m\u001b[0;34m(\u001b[0m\u001b[0;34m*\u001b[0m\u001b[0minput\u001b[0m\u001b[0;34m,\u001b[0m \u001b[0;34m**\u001b[0m\u001b[0mkwargs\u001b[0m\u001b[0;34m)\u001b[0m\u001b[0;34m\u001b[0m\u001b[0;34m\u001b[0m\u001b[0m\n\u001b[0m\u001b[1;32m   1103\u001b[0m         \u001b[0;31m# Do not call functions when jit is used\u001b[0m\u001b[0;34m\u001b[0m\u001b[0;34m\u001b[0m\u001b[0;34m\u001b[0m\u001b[0m\n\u001b[1;32m   1104\u001b[0m         \u001b[0mfull_backward_hooks\u001b[0m\u001b[0;34m,\u001b[0m \u001b[0mnon_full_backward_hooks\u001b[0m \u001b[0;34m=\u001b[0m \u001b[0;34m[\u001b[0m\u001b[0;34m]\u001b[0m\u001b[0;34m,\u001b[0m \u001b[0;34m[\u001b[0m\u001b[0;34m]\u001b[0m\u001b[0;34m\u001b[0m\u001b[0;34m\u001b[0m\u001b[0m\n",
            "\u001b[0;32m<ipython-input-64-07a2b60bdc2f>\u001b[0m in \u001b[0;36mforward\u001b[0;34m(self, x)\u001b[0m\n\u001b[1;32m      6\u001b[0m   \u001b[0;32mdef\u001b[0m \u001b[0mforward\u001b[0m\u001b[0;34m(\u001b[0m\u001b[0mself\u001b[0m\u001b[0;34m,\u001b[0m \u001b[0mx\u001b[0m\u001b[0;34m)\u001b[0m\u001b[0;34m:\u001b[0m\u001b[0;34m\u001b[0m\u001b[0;34m\u001b[0m\u001b[0m\n\u001b[1;32m      7\u001b[0m     \u001b[0mx\u001b[0m \u001b[0;34m=\u001b[0m \u001b[0mself\u001b[0m\u001b[0;34m.\u001b[0m\u001b[0mencoder\u001b[0m\u001b[0;34m(\u001b[0m\u001b[0mx\u001b[0m\u001b[0;34m)\u001b[0m\u001b[0;34m\u001b[0m\u001b[0;34m\u001b[0m\u001b[0m\n\u001b[0;32m----> 8\u001b[0;31m     \u001b[0mx\u001b[0m \u001b[0;34m=\u001b[0m \u001b[0mself\u001b[0m\u001b[0;34m.\u001b[0m\u001b[0mdecoder\u001b[0m\u001b[0;34m(\u001b[0m\u001b[0mx\u001b[0m\u001b[0;34m)\u001b[0m\u001b[0;34m\u001b[0m\u001b[0;34m\u001b[0m\u001b[0m\n\u001b[0m\u001b[1;32m      9\u001b[0m     \u001b[0;32mreturn\u001b[0m \u001b[0mx\u001b[0m\u001b[0;34m\u001b[0m\u001b[0;34m\u001b[0m\u001b[0m\n",
            "\u001b[0;32m/usr/local/lib/python3.7/dist-packages/torch/nn/modules/module.py\u001b[0m in \u001b[0;36m_call_impl\u001b[0;34m(self, *input, **kwargs)\u001b[0m\n\u001b[1;32m   1100\u001b[0m         if not (self._backward_hooks or self._forward_hooks or self._forward_pre_hooks or _global_backward_hooks\n\u001b[1;32m   1101\u001b[0m                 or _global_forward_hooks or _global_forward_pre_hooks):\n\u001b[0;32m-> 1102\u001b[0;31m             \u001b[0;32mreturn\u001b[0m \u001b[0mforward_call\u001b[0m\u001b[0;34m(\u001b[0m\u001b[0;34m*\u001b[0m\u001b[0minput\u001b[0m\u001b[0;34m,\u001b[0m \u001b[0;34m**\u001b[0m\u001b[0mkwargs\u001b[0m\u001b[0;34m)\u001b[0m\u001b[0;34m\u001b[0m\u001b[0;34m\u001b[0m\u001b[0m\n\u001b[0m\u001b[1;32m   1103\u001b[0m         \u001b[0;31m# Do not call functions when jit is used\u001b[0m\u001b[0;34m\u001b[0m\u001b[0;34m\u001b[0m\u001b[0;34m\u001b[0m\u001b[0m\n\u001b[1;32m   1104\u001b[0m         \u001b[0mfull_backward_hooks\u001b[0m\u001b[0;34m,\u001b[0m \u001b[0mnon_full_backward_hooks\u001b[0m \u001b[0;34m=\u001b[0m \u001b[0;34m[\u001b[0m\u001b[0;34m]\u001b[0m\u001b[0;34m,\u001b[0m \u001b[0;34m[\u001b[0m\u001b[0;34m]\u001b[0m\u001b[0;34m\u001b[0m\u001b[0;34m\u001b[0m\u001b[0m\n",
            "\u001b[0;32m<ipython-input-63-68016f764d0b>\u001b[0m in \u001b[0;36mforward\u001b[0;34m(self, x)\u001b[0m\n\u001b[1;32m     21\u001b[0m     \u001b[0mx\u001b[0m \u001b[0;34m=\u001b[0m \u001b[0mx\u001b[0m\u001b[0;34m.\u001b[0m\u001b[0mreshape\u001b[0m\u001b[0;34m(\u001b[0m\u001b[0;34m(\u001b[0m\u001b[0mself\u001b[0m\u001b[0;34m.\u001b[0m\u001b[0mn_features\u001b[0m\u001b[0;34m,\u001b[0m \u001b[0mself\u001b[0m\u001b[0;34m.\u001b[0m\u001b[0mseq_len\u001b[0m\u001b[0;34m,\u001b[0m \u001b[0mself\u001b[0m\u001b[0;34m.\u001b[0m\u001b[0minput_dim\u001b[0m\u001b[0;34m)\u001b[0m\u001b[0;34m)\u001b[0m\u001b[0;34m\u001b[0m\u001b[0;34m\u001b[0m\u001b[0m\n\u001b[1;32m     22\u001b[0m     \u001b[0mx\u001b[0m\u001b[0;34m,\u001b[0m \u001b[0;34m(\u001b[0m\u001b[0mhidden_n\u001b[0m\u001b[0;34m,\u001b[0m \u001b[0mcell_n\u001b[0m\u001b[0;34m)\u001b[0m \u001b[0;34m=\u001b[0m \u001b[0mself\u001b[0m\u001b[0;34m.\u001b[0m\u001b[0mrnn1\u001b[0m\u001b[0;34m(\u001b[0m\u001b[0mx\u001b[0m\u001b[0;34m)\u001b[0m\u001b[0;34m\u001b[0m\u001b[0;34m\u001b[0m\u001b[0m\n\u001b[0;32m---> 23\u001b[0;31m     \u001b[0mx\u001b[0m\u001b[0;34m,\u001b[0m \u001b[0;34m(\u001b[0m\u001b[0mhidden_n\u001b[0m\u001b[0;34m,\u001b[0m \u001b[0mcell_n\u001b[0m\u001b[0;34m)\u001b[0m \u001b[0;34m=\u001b[0m \u001b[0mself\u001b[0m\u001b[0;34m.\u001b[0m\u001b[0mrnn2\u001b[0m\u001b[0;34m(\u001b[0m\u001b[0mx\u001b[0m\u001b[0;34m)\u001b[0m\u001b[0;34m\u001b[0m\u001b[0;34m\u001b[0m\u001b[0m\n\u001b[0m\u001b[1;32m     24\u001b[0m     \u001b[0mx\u001b[0m \u001b[0;34m=\u001b[0m \u001b[0mx\u001b[0m\u001b[0;34m.\u001b[0m\u001b[0mreshape\u001b[0m\u001b[0;34m(\u001b[0m\u001b[0;34m(\u001b[0m\u001b[0mself\u001b[0m\u001b[0;34m.\u001b[0m\u001b[0mseq_len\u001b[0m\u001b[0;34m,\u001b[0m \u001b[0mself\u001b[0m\u001b[0;34m.\u001b[0m\u001b[0mhidden_dim\u001b[0m\u001b[0;34m)\u001b[0m\u001b[0;34m)\u001b[0m\u001b[0;34m\u001b[0m\u001b[0;34m\u001b[0m\u001b[0m\n\u001b[1;32m     25\u001b[0m     \u001b[0;32mreturn\u001b[0m \u001b[0mself\u001b[0m\u001b[0;34m.\u001b[0m\u001b[0moutput_layer\u001b[0m\u001b[0;34m(\u001b[0m\u001b[0mx\u001b[0m\u001b[0;34m)\u001b[0m\u001b[0;34m\u001b[0m\u001b[0;34m\u001b[0m\u001b[0m\n",
            "\u001b[0;32m/usr/local/lib/python3.7/dist-packages/torch/nn/modules/module.py\u001b[0m in \u001b[0;36m_call_impl\u001b[0;34m(self, *input, **kwargs)\u001b[0m\n\u001b[1;32m   1100\u001b[0m         if not (self._backward_hooks or self._forward_hooks or self._forward_pre_hooks or _global_backward_hooks\n\u001b[1;32m   1101\u001b[0m                 or _global_forward_hooks or _global_forward_pre_hooks):\n\u001b[0;32m-> 1102\u001b[0;31m             \u001b[0;32mreturn\u001b[0m \u001b[0mforward_call\u001b[0m\u001b[0;34m(\u001b[0m\u001b[0;34m*\u001b[0m\u001b[0minput\u001b[0m\u001b[0;34m,\u001b[0m \u001b[0;34m**\u001b[0m\u001b[0mkwargs\u001b[0m\u001b[0;34m)\u001b[0m\u001b[0;34m\u001b[0m\u001b[0;34m\u001b[0m\u001b[0m\n\u001b[0m\u001b[1;32m   1103\u001b[0m         \u001b[0;31m# Do not call functions when jit is used\u001b[0m\u001b[0;34m\u001b[0m\u001b[0;34m\u001b[0m\u001b[0;34m\u001b[0m\u001b[0m\n\u001b[1;32m   1104\u001b[0m         \u001b[0mfull_backward_hooks\u001b[0m\u001b[0;34m,\u001b[0m \u001b[0mnon_full_backward_hooks\u001b[0m \u001b[0;34m=\u001b[0m \u001b[0;34m[\u001b[0m\u001b[0;34m]\u001b[0m\u001b[0;34m,\u001b[0m \u001b[0;34m[\u001b[0m\u001b[0;34m]\u001b[0m\u001b[0;34m\u001b[0m\u001b[0;34m\u001b[0m\u001b[0m\n",
            "\u001b[0;32m/usr/local/lib/python3.7/dist-packages/torch/nn/modules/rnn.py\u001b[0m in \u001b[0;36mforward\u001b[0;34m(self, input, hx)\u001b[0m\n\u001b[1;32m    690\u001b[0m         \u001b[0;32mif\u001b[0m \u001b[0mbatch_sizes\u001b[0m \u001b[0;32mis\u001b[0m \u001b[0;32mNone\u001b[0m\u001b[0;34m:\u001b[0m\u001b[0;34m\u001b[0m\u001b[0;34m\u001b[0m\u001b[0m\n\u001b[1;32m    691\u001b[0m             result = _VF.lstm(input, hx, self._flat_weights, self.bias, self.num_layers,\n\u001b[0;32m--> 692\u001b[0;31m                               self.dropout, self.training, self.bidirectional, self.batch_first)\n\u001b[0m\u001b[1;32m    693\u001b[0m         \u001b[0;32melse\u001b[0m\u001b[0;34m:\u001b[0m\u001b[0;34m\u001b[0m\u001b[0;34m\u001b[0m\u001b[0m\n\u001b[1;32m    694\u001b[0m             result = _VF.lstm(input, batch_sizes, hx, self._flat_weights, self.bias,\n",
            "\u001b[0;31mKeyboardInterrupt\u001b[0m: "
          ]
        }
      ]
    },
    {
      "cell_type": "code",
      "source": [
        ""
      ],
      "metadata": {
        "id": "cvj82KR6HkKA"
      },
      "execution_count": null,
      "outputs": []
    },
    {
      "cell_type": "code",
      "source": [
        "MODEL_PATH = 'model.pth'\n",
        "torch.save(model, MODEL_PATH)"
      ],
      "metadata": {
        "id": "AkOls6ux6eBE"
      },
      "execution_count": null,
      "outputs": []
    },
    {
      "cell_type": "code",
      "source": [
        "!gdown --id 1jEYx5wGsb7Ix8cZAw3l5p5pOwHs3_I9A\n",
        "model = torch.load('model.pth',map_location=torch.device('cpu'))\n",
        "model = model.to('cpu')"
      ],
      "metadata": {
        "colab": {
          "base_uri": "https://localhost:8080/"
        },
        "id": "kmK-U_TAHmzT",
        "outputId": "309b9dfc-f60a-46d3-b0b1-3c044ce14a35"
      },
      "execution_count": 72,
      "outputs": [
        {
          "output_type": "stream",
          "name": "stdout",
          "text": [
            "Downloading...\n",
            "From: https://drive.google.com/uc?id=1jEYx5wGsb7Ix8cZAw3l5p5pOwHs3_I9A\n",
            "To: /content/model.pth\n",
            "\r  0% 0.00/3.98M [00:00<?, ?B/s]\r100% 3.98M/3.98M [00:00<00:00, 158MB/s]\n"
          ]
        },
        {
          "output_type": "stream",
          "name": "stderr",
          "text": [
            "/usr/local/lib/python3.7/dist-packages/torch/serialization.py:671: SourceChangeWarning: source code of class 'torch.nn.modules.rnn.LSTM' has changed. you can retrieve the original source code by accessing the object's source attribute or set `torch.nn.Module.dump_patches = True` and use the patch tool to revert the changes.\n",
            "  warnings.warn(msg, SourceChangeWarning)\n",
            "/usr/local/lib/python3.7/dist-packages/torch/serialization.py:671: SourceChangeWarning: source code of class 'torch.nn.modules.linear.Linear' has changed. you can retrieve the original source code by accessing the object's source attribute or set `torch.nn.Module.dump_patches = True` and use the patch tool to revert the changes.\n",
            "  warnings.warn(msg, SourceChangeWarning)\n"
          ]
        }
      ]
    },
    {
      "cell_type": "code",
      "source": [
        "def predict(model, dataset):\n",
        "  predictions, losses = [], []\n",
        "  criterion = nn.L1Loss(reduction='sum').to(device)\n",
        "  with torch.no_grad():\n",
        "    model = model.eval()\n",
        "    for seq_true in dataset:\n",
        "      seq_true = seq_true.to(device)\n",
        "      seq_pred = model(seq_true)\n",
        "      loss = criterion(seq_pred, seq_true)\n",
        "      predictions.append(seq_pred.cpu().numpy().flatten())\n",
        "      losses.append(loss.item())\n",
        "  return predictions, losses"
      ],
      "metadata": {
        "id": "AdOUdu-u6f1_"
      },
      "execution_count": 73,
      "outputs": []
    },
    {
      "cell_type": "code",
      "source": [
        "_, losses = predict(model, train_dataset)\n",
        "sns.distplot(losses, bins=50, kde=True);"
      ],
      "metadata": {
        "colab": {
          "base_uri": "https://localhost:8080/",
          "height": 324
        },
        "id": "i5ESZJGL6g80",
        "outputId": "667e093f-7005-4ade-bb64-b3a9120d3049"
      },
      "execution_count": 74,
      "outputs": [
        {
          "output_type": "stream",
          "name": "stderr",
          "text": [
            "/usr/local/lib/python3.7/dist-packages/seaborn/distributions.py:2619: FutureWarning: `distplot` is a deprecated function and will be removed in a future version. Please adapt your code to use either `displot` (a figure-level function with similar flexibility) or `histplot` (an axes-level function for histograms).\n",
            "  warnings.warn(msg, FutureWarning)\n"
          ]
        },
        {
          "output_type": "display_data",
          "data": {
            "image/png": "[encoded data removed]",
            "text/plain": [
              "<Figure size 432x288 with 1 Axes>"
            ]
          },
          "metadata": {
            "needs_background": "light"
          }
        }
      ]
    },
    {
      "cell_type": "code",
      "source": [
        "THRESHOLD = 26"
      ],
      "metadata": {
        "id": "9-5AaHNd6hz8"
      },
      "execution_count": 75,
      "outputs": []
    },
    {
      "cell_type": "code",
      "source": [
        "predictions, pred_losses = predict(model, test_normal_dataset)\n",
        "sns.distplot(pred_losses, bins=50, kde=True);"
      ],
      "metadata": {
        "colab": {
          "base_uri": "https://localhost:8080/",
          "height": 322
        },
        "id": "-ywouf086iq1",
        "outputId": "60cf6074-458a-4dc8-b8f4-e41311a7e606"
      },
      "execution_count": 76,
      "outputs": [
        {
          "output_type": "stream",
          "name": "stderr",
          "text": [
            "/usr/local/lib/python3.7/dist-packages/seaborn/distributions.py:2619: FutureWarning: `distplot` is a deprecated function and will be removed in a future version. Please adapt your code to use either `displot` (a figure-level function with similar flexibility) or `histplot` (an axes-level function for histograms).\n",
            "  warnings.warn(msg, FutureWarning)\n"
          ]
        },
        {
          "output_type": "display_data",
          "data": {
            "image/png": "[encoded data removed]",
            "text/plain": [
              "<Figure size 432x288 with 1 Axes>"
            ]
          },
          "metadata": {
            "needs_background": "light"
          }
        }
      ]
    },
    {
      "cell_type": "code",
      "source": [
        "correct = sum(l <= THRESHOLD for l in pred_losses)\n",
        "print(f'Correct normal predictions: {correct}/{len(test_normal_dataset)}')"
      ],
      "metadata": {
        "colab": {
          "base_uri": "https://localhost:8080/"
        },
        "id": "1jG1gweu6kIQ",
        "outputId": "49a855eb-c6a5-4843-cf84-465b7f64029b"
      },
      "execution_count": 77,
      "outputs": [
        {
          "output_type": "stream",
          "name": "stdout",
          "text": [
            "Correct normal predictions: 144/145\n"
          ]
        }
      ]
    },
    {
      "cell_type": "code",
      "source": [
        "anomaly_dataset = test_anomaly_dataset[:len(test_normal_dataset)]"
      ],
      "metadata": {
        "id": "XtB8y1kH6lZw"
      },
      "execution_count": 78,
      "outputs": []
    },
    {
      "cell_type": "code",
      "source": [
        "correct = sum(l > THRESHOLD for l in pred_losses)\n",
        "print(f'Correct anomaly predictions: {correct}/{len(anomaly_dataset)}')"
      ],
      "metadata": {
        "colab": {
          "base_uri": "https://localhost:8080/"
        },
        "id": "q_ZJljqW6mnU",
        "outputId": "0de3ea0d-6e66-46c3-e372-ba7d1aa49e81"
      },
      "execution_count": 79,
      "outputs": [
        {
          "output_type": "stream",
          "name": "stdout",
          "text": [
            "Correct anomaly predictions: 1/145\n"
          ]
        }
      ]
    },
    {
      "cell_type": "markdown",
      "source": [
        ""
      ],
      "metadata": {
        "id": "UP5SEoAd6lRT"
      }
    },
    {
      "cell_type": "markdown",
      "source": [
        ""
      ],
      "metadata": {
        "id": "hg4or3ry6lM3"
      }
    }
  ]
}