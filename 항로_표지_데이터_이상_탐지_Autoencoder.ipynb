{
  "nbformat": 4,
  "nbformat_minor": 0,
  "metadata": {
    "colab": {
      "name": "항로 표지 데이터 이상 탐지_Autoencoder.ipynb",
      "provenance": [],
      "collapsed_sections": [],
      "authorship_tag": "ABX9TyNem2Je+zp/3cvkv6ktM6cU",
      "include_colab_link": true
    },
    "kernelspec": {
      "name": "python3",
      "display_name": "Python 3"
    },
    "language_info": {
      "name": "python"
    }
  },
  "cells": [
    {
      "cell_type": "markdown",
      "metadata": {
        "id": "view-in-github",
        "colab_type": "text"
      },
      "source": [
        "<a href=\"https://colab.research.google.com/github/andreYoo/Time-series-analysis-anomaly-detection/blob/main/%ED%95%AD%EB%A1%9C_%ED%91%9C%EC%A7%80_%EB%8D%B0%EC%9D%B4%ED%84%B0_%EC%9D%B4%EC%83%81_%ED%83%90%EC%A7%80_Autoencoder.ipynb\" target=\"_parent\"><img src=\"https://colab.research.google.com/assets/colab-badge.svg\" alt=\"Open In Colab\"/></a>"
      ]
    },
    {
      "cell_type": "code",
      "execution_count": 1,
      "metadata": {
        "id": "88Nk2UYmevUp",
        "colab": {
          "base_uri": "https://localhost:8080/"
        },
        "outputId": "9e355b75-b1bd-4d05-87a1-ce702f16de7c"
      },
      "outputs": [
        {
          "output_type": "stream",
          "name": "stderr",
          "text": [
            "/usr/local/lib/python3.7/dist-packages/statsmodels/tools/_testing.py:19: FutureWarning: pandas.util.testing is deprecated. Use the functions in the public API at pandas.testing instead.\n",
            "  import pandas.util.testing as tm\n"
          ]
        },
        {
          "output_type": "stream",
          "name": "stdout",
          "text": [
            "Mounted at /content/drive\n"
          ]
        }
      ],
      "source": [
        "import matplotlib.pyplot as plt\n",
        "import numpy as np\n",
        "import pandas as pd\n",
        "import tensorflow as tf\n",
        "import statsmodels.api as sm # statsmodels 호출 \n",
        "import seaborn as sns # 그래프를 그리기위한 Seaborn 호출 \n",
        "\n",
        "from sklearn.metrics import accuracy_score, precision_score, recall_score\n",
        "from sklearn.model_selection import train_test_split\n",
        "from tensorflow.keras import layers, losses\n",
        "from tensorflow.keras.datasets import fashion_mnist\n",
        "from tensorflow.keras.models import Model\n",
        "\n",
        "from google.colab import drive\n",
        "drive.mount('/content/drive')"
      ]
    },
    {
      "cell_type": "code",
      "source": [
        "dataframe = pd.read_csv('./drive/MyDrive/study/tmp_TB_STATUS.csv')\n",
        "raw_data = dataframe.values\n",
        "dataframe.head()"
      ],
      "metadata": {
        "colab": {
          "base_uri": "https://localhost:8080/",
          "height": 287
        },
        "id": "yO5Pi_kVkS02",
        "outputId": "f4f1bd45-bd30-4757-ab66-58a835cb5375"
      },
      "execution_count": 2,
      "outputs": [
        {
          "output_type": "execute_result",
          "data": {
            "text/html": [
              "\n",
              "  <div id=\"df-76aa54d0-0609-47f4-be87-3da325df7c8f\">\n",
              "    <div class=\"colab-df-container\">\n",
              "      <div>\n",
              "<style scoped>\n",
              "    .dataframe tbody tr th:only-of-type {\n",
              "        vertical-align: middle;\n",
              "    }\n",
              "\n",
              "    .dataframe tbody tr th {\n",
              "        vertical-align: top;\n",
              "    }\n",
              "\n",
              "    .dataframe thead th {\n",
              "        text-align: right;\n",
              "    }\n",
              "</style>\n",
              "<table border=\"1\" class=\"dataframe\">\n",
              "  <thead>\n",
              "    <tr style=\"text-align: right;\">\n",
              "      <th></th>\n",
              "      <th>Unnamed: 0</th>\n",
              "      <th>MMAF_CODE</th>\n",
              "      <th>MMSI</th>\n",
              "      <th>COLCT_DT</th>\n",
              "      <th>REG_ANS</th>\n",
              "      <th>COMM_TYPE</th>\n",
              "      <th>LATITUDE</th>\n",
              "      <th>LONGITUDE</th>\n",
              "      <th>INSTALL_DT</th>\n",
              "      <th>LANTERN_STATUS</th>\n",
              "      <th>RACON_STATUS</th>\n",
              "      <th>BATTERY_STATUS</th>\n",
              "      <th>CHARGER_STATUS</th>\n",
              "      <th>SOLAR_STATUS</th>\n",
              "      <th>DATALOGGER_STATUS</th>\n",
              "      <th>SPARE_STATUS</th>\n",
              "      <th>MAIN_VOLT_STATUS</th>\n",
              "      <th>SUB_VOLT_STATUS</th>\n",
              "      <th>SOLAR_VOLT_STATUS</th>\n",
              "      <th>WIND_VOLT_STATUS</th>\n",
              "      <th>WAVE_VOLT_STATUS</th>\n",
              "      <th>CHARGER_VOLT_STATUS</th>\n",
              "      <th>BATTERY_VOLT_STATUS</th>\n",
              "      <th>SPARE_VOLT_STATUS</th>\n",
              "      <th>AIS_CURR_STATUS</th>\n",
              "      <th>LANTERN_CURR_STATUS</th>\n",
              "      <th>DATALOGGER_CURR_STATUS</th>\n",
              "      <th>SPARE_CURR_STATUS</th>\n",
              "      <th>WIND_SPEED_STATUS</th>\n",
              "      <th>WIND_DIRECT_STATUS</th>\n",
              "      <th>AIR_TEMPER_STATUS</th>\n",
              "      <th>HUMIDITY_STATUS</th>\n",
              "      <th>DEW_POINT_STATUS</th>\n",
              "      <th>AIR_PRESSURE_STATUS</th>\n",
              "      <th>HORIZON_VISIBL_STATUS</th>\n",
              "      <th>WATER_LEVEL_STATUS</th>\n",
              "      <th>CURRENT1_STATUS</th>\n",
              "      <th>CURRENT2_STATUS</th>\n",
              "      <th>CURRENT3_STATUS</th>\n",
              "      <th>WAVE_HEIGHT_STATUS</th>\n",
              "      <th>WAVE_DRC_STATUS</th>\n",
              "      <th>SWELL_HEIGHT_STATUS</th>\n",
              "      <th>SWELL_DRC_STATUS</th>\n",
              "      <th>WATER_TEMPER_STATUS</th>\n",
              "      <th>PRECIPI_TYPE_STATUS</th>\n",
              "      <th>SALINITY_STATUS</th>\n",
              "      <th>ICE_STATUS</th>\n",
              "      <th>HEAT_PROSTR_STATUS</th>\n",
              "      <th>HELIOGRAPH_STATUS</th>\n",
              "      <th>OXYGEN_STATUS</th>\n",
              "      <th>OXYGEN_SATUR_STATUS</th>\n",
              "      <th>PH_STATUS</th>\n",
              "      <th>CHLOROPHYLL_STATUS</th>\n",
              "      <th>MUDDINESS_STATUS</th>\n",
              "      <th>PRECIPI_STATUS</th>\n",
              "      <th>CHARGER_CURR_STATUS</th>\n",
              "      <th>DISCHARGER_CURR_STATUS</th>\n",
              "      <th>VTS_ID</th>\n",
              "      <th>BASESTATION_ID</th>\n",
              "      <th>REGIST_USER_NO</th>\n",
              "      <th>REGIST_DT</th>\n",
              "      <th>UPDT_USER_NO</th>\n",
              "      <th>UPDT_DT</th>\n",
              "    </tr>\n",
              "  </thead>\n",
              "  <tbody>\n",
              "    <tr>\n",
              "      <th>0</th>\n",
              "      <td>0</td>\n",
              "      <td>103</td>\n",
              "      <td>994403901</td>\n",
              "      <td>1.998030e+13</td>\n",
              "      <td>NaN</td>\n",
              "      <td>NaN</td>\n",
              "      <td>33.797717</td>\n",
              "      <td>126.322500</td>\n",
              "      <td>NaN</td>\n",
              "      <td>0</td>\n",
              "      <td>0</td>\n",
              "      <td>1</td>\n",
              "      <td>0.0</td>\n",
              "      <td>1.0</td>\n",
              "      <td>0.0</td>\n",
              "      <td>NaN</td>\n",
              "      <td>13.4</td>\n",
              "      <td>NaN</td>\n",
              "      <td>2.0</td>\n",
              "      <td>NaN</td>\n",
              "      <td>NaN</td>\n",
              "      <td>NaN</td>\n",
              "      <td>14.7</td>\n",
              "      <td>0.0</td>\n",
              "      <td>0.26</td>\n",
              "      <td>0.0</td>\n",
              "      <td>0.0</td>\n",
              "      <td>NaN</td>\n",
              "      <td>NaN</td>\n",
              "      <td>NaN</td>\n",
              "      <td>NaN</td>\n",
              "      <td>NaN</td>\n",
              "      <td>NaN</td>\n",
              "      <td>NaN</td>\n",
              "      <td>NaN</td>\n",
              "      <td>NaN</td>\n",
              "      <td>NaN</td>\n",
              "      <td>NaN</td>\n",
              "      <td>NaN</td>\n",
              "      <td>NaN</td>\n",
              "      <td>NaN</td>\n",
              "      <td>NaN</td>\n",
              "      <td>NaN</td>\n",
              "      <td>NaN</td>\n",
              "      <td>NaN</td>\n",
              "      <td>NaN</td>\n",
              "      <td>NaN</td>\n",
              "      <td>NaN</td>\n",
              "      <td>NaN</td>\n",
              "      <td>NaN</td>\n",
              "      <td>NaN</td>\n",
              "      <td>NaN</td>\n",
              "      <td>NaN</td>\n",
              "      <td>NaN</td>\n",
              "      <td>NaN</td>\n",
              "      <td>0.00</td>\n",
              "      <td>1.87</td>\n",
              "      <td>NaN</td>\n",
              "      <td>NaN</td>\n",
              "      <td>NaN</td>\n",
              "      <td>NaN</td>\n",
              "      <td>NaN</td>\n",
              "      <td>NaN</td>\n",
              "    </tr>\n",
              "    <tr>\n",
              "      <th>1</th>\n",
              "      <td>1</td>\n",
              "      <td>104</td>\n",
              "      <td>994401597</td>\n",
              "      <td>2.014030e+13</td>\n",
              "      <td>NaN</td>\n",
              "      <td>NaN</td>\n",
              "      <td>35.066583</td>\n",
              "      <td>129.130850</td>\n",
              "      <td>NaN</td>\n",
              "      <td>0</td>\n",
              "      <td>2</td>\n",
              "      <td>1</td>\n",
              "      <td>0.0</td>\n",
              "      <td>1.0</td>\n",
              "      <td>0.0</td>\n",
              "      <td>NaN</td>\n",
              "      <td>10.5</td>\n",
              "      <td>NaN</td>\n",
              "      <td>0.0</td>\n",
              "      <td>NaN</td>\n",
              "      <td>NaN</td>\n",
              "      <td>NaN</td>\n",
              "      <td>10.2</td>\n",
              "      <td>0.0</td>\n",
              "      <td>0.16</td>\n",
              "      <td>0.0</td>\n",
              "      <td>0.0</td>\n",
              "      <td>NaN</td>\n",
              "      <td>NaN</td>\n",
              "      <td>NaN</td>\n",
              "      <td>NaN</td>\n",
              "      <td>NaN</td>\n",
              "      <td>NaN</td>\n",
              "      <td>NaN</td>\n",
              "      <td>NaN</td>\n",
              "      <td>NaN</td>\n",
              "      <td>NaN</td>\n",
              "      <td>NaN</td>\n",
              "      <td>NaN</td>\n",
              "      <td>NaN</td>\n",
              "      <td>NaN</td>\n",
              "      <td>NaN</td>\n",
              "      <td>NaN</td>\n",
              "      <td>NaN</td>\n",
              "      <td>NaN</td>\n",
              "      <td>NaN</td>\n",
              "      <td>NaN</td>\n",
              "      <td>NaN</td>\n",
              "      <td>NaN</td>\n",
              "      <td>NaN</td>\n",
              "      <td>NaN</td>\n",
              "      <td>NaN</td>\n",
              "      <td>NaN</td>\n",
              "      <td>NaN</td>\n",
              "      <td>NaN</td>\n",
              "      <td>0.00</td>\n",
              "      <td>0.59</td>\n",
              "      <td>NaN</td>\n",
              "      <td>NaN</td>\n",
              "      <td>NaN</td>\n",
              "      <td>NaN</td>\n",
              "      <td>NaN</td>\n",
              "      <td>NaN</td>\n",
              "    </tr>\n",
              "    <tr>\n",
              "      <th>2</th>\n",
              "      <td>2</td>\n",
              "      <td>107</td>\n",
              "      <td>994402986</td>\n",
              "      <td>2.014020e+13</td>\n",
              "      <td>NaN</td>\n",
              "      <td>NaN</td>\n",
              "      <td>34.703650</td>\n",
              "      <td>125.837100</td>\n",
              "      <td>NaN</td>\n",
              "      <td>0</td>\n",
              "      <td>0</td>\n",
              "      <td>1</td>\n",
              "      <td>0.0</td>\n",
              "      <td>1.0</td>\n",
              "      <td>0.0</td>\n",
              "      <td>NaN</td>\n",
              "      <td>12.8</td>\n",
              "      <td>NaN</td>\n",
              "      <td>8.0</td>\n",
              "      <td>NaN</td>\n",
              "      <td>NaN</td>\n",
              "      <td>NaN</td>\n",
              "      <td>14.1</td>\n",
              "      <td>0.0</td>\n",
              "      <td>0.22</td>\n",
              "      <td>0.0</td>\n",
              "      <td>0.0</td>\n",
              "      <td>NaN</td>\n",
              "      <td>NaN</td>\n",
              "      <td>NaN</td>\n",
              "      <td>NaN</td>\n",
              "      <td>NaN</td>\n",
              "      <td>NaN</td>\n",
              "      <td>NaN</td>\n",
              "      <td>NaN</td>\n",
              "      <td>NaN</td>\n",
              "      <td>NaN</td>\n",
              "      <td>NaN</td>\n",
              "      <td>NaN</td>\n",
              "      <td>NaN</td>\n",
              "      <td>NaN</td>\n",
              "      <td>NaN</td>\n",
              "      <td>NaN</td>\n",
              "      <td>NaN</td>\n",
              "      <td>NaN</td>\n",
              "      <td>NaN</td>\n",
              "      <td>NaN</td>\n",
              "      <td>NaN</td>\n",
              "      <td>NaN</td>\n",
              "      <td>NaN</td>\n",
              "      <td>NaN</td>\n",
              "      <td>NaN</td>\n",
              "      <td>NaN</td>\n",
              "      <td>NaN</td>\n",
              "      <td>NaN</td>\n",
              "      <td>2.03</td>\n",
              "      <td>0.00</td>\n",
              "      <td>NaN</td>\n",
              "      <td>NaN</td>\n",
              "      <td>NaN</td>\n",
              "      <td>NaN</td>\n",
              "      <td>NaN</td>\n",
              "      <td>NaN</td>\n",
              "    </tr>\n",
              "    <tr>\n",
              "      <th>3</th>\n",
              "      <td>3</td>\n",
              "      <td>107</td>\n",
              "      <td>994402986</td>\n",
              "      <td>2.014020e+13</td>\n",
              "      <td>NaN</td>\n",
              "      <td>NaN</td>\n",
              "      <td>34.703667</td>\n",
              "      <td>125.837117</td>\n",
              "      <td>NaN</td>\n",
              "      <td>0</td>\n",
              "      <td>0</td>\n",
              "      <td>1</td>\n",
              "      <td>0.0</td>\n",
              "      <td>1.0</td>\n",
              "      <td>0.0</td>\n",
              "      <td>NaN</td>\n",
              "      <td>12.8</td>\n",
              "      <td>NaN</td>\n",
              "      <td>0.0</td>\n",
              "      <td>NaN</td>\n",
              "      <td>NaN</td>\n",
              "      <td>NaN</td>\n",
              "      <td>14.1</td>\n",
              "      <td>0.0</td>\n",
              "      <td>0.22</td>\n",
              "      <td>0.0</td>\n",
              "      <td>0.0</td>\n",
              "      <td>NaN</td>\n",
              "      <td>NaN</td>\n",
              "      <td>NaN</td>\n",
              "      <td>NaN</td>\n",
              "      <td>NaN</td>\n",
              "      <td>NaN</td>\n",
              "      <td>NaN</td>\n",
              "      <td>NaN</td>\n",
              "      <td>NaN</td>\n",
              "      <td>NaN</td>\n",
              "      <td>NaN</td>\n",
              "      <td>NaN</td>\n",
              "      <td>NaN</td>\n",
              "      <td>NaN</td>\n",
              "      <td>NaN</td>\n",
              "      <td>NaN</td>\n",
              "      <td>NaN</td>\n",
              "      <td>NaN</td>\n",
              "      <td>NaN</td>\n",
              "      <td>NaN</td>\n",
              "      <td>NaN</td>\n",
              "      <td>NaN</td>\n",
              "      <td>NaN</td>\n",
              "      <td>NaN</td>\n",
              "      <td>NaN</td>\n",
              "      <td>NaN</td>\n",
              "      <td>NaN</td>\n",
              "      <td>NaN</td>\n",
              "      <td>2.01</td>\n",
              "      <td>0.00</td>\n",
              "      <td>NaN</td>\n",
              "      <td>NaN</td>\n",
              "      <td>NaN</td>\n",
              "      <td>NaN</td>\n",
              "      <td>NaN</td>\n",
              "      <td>NaN</td>\n",
              "    </tr>\n",
              "    <tr>\n",
              "      <th>4</th>\n",
              "      <td>4</td>\n",
              "      <td>107</td>\n",
              "      <td>994402986</td>\n",
              "      <td>2.014020e+13</td>\n",
              "      <td>NaN</td>\n",
              "      <td>NaN</td>\n",
              "      <td>34.703667</td>\n",
              "      <td>125.837117</td>\n",
              "      <td>NaN</td>\n",
              "      <td>0</td>\n",
              "      <td>0</td>\n",
              "      <td>1</td>\n",
              "      <td>0.0</td>\n",
              "      <td>1.0</td>\n",
              "      <td>0.0</td>\n",
              "      <td>NaN</td>\n",
              "      <td>12.8</td>\n",
              "      <td>NaN</td>\n",
              "      <td>0.0</td>\n",
              "      <td>NaN</td>\n",
              "      <td>NaN</td>\n",
              "      <td>NaN</td>\n",
              "      <td>14.1</td>\n",
              "      <td>0.0</td>\n",
              "      <td>0.22</td>\n",
              "      <td>0.0</td>\n",
              "      <td>0.0</td>\n",
              "      <td>NaN</td>\n",
              "      <td>NaN</td>\n",
              "      <td>NaN</td>\n",
              "      <td>NaN</td>\n",
              "      <td>NaN</td>\n",
              "      <td>NaN</td>\n",
              "      <td>NaN</td>\n",
              "      <td>NaN</td>\n",
              "      <td>NaN</td>\n",
              "      <td>NaN</td>\n",
              "      <td>NaN</td>\n",
              "      <td>NaN</td>\n",
              "      <td>NaN</td>\n",
              "      <td>NaN</td>\n",
              "      <td>NaN</td>\n",
              "      <td>NaN</td>\n",
              "      <td>NaN</td>\n",
              "      <td>NaN</td>\n",
              "      <td>NaN</td>\n",
              "      <td>NaN</td>\n",
              "      <td>NaN</td>\n",
              "      <td>NaN</td>\n",
              "      <td>NaN</td>\n",
              "      <td>NaN</td>\n",
              "      <td>NaN</td>\n",
              "      <td>NaN</td>\n",
              "      <td>NaN</td>\n",
              "      <td>NaN</td>\n",
              "      <td>2.02</td>\n",
              "      <td>0.00</td>\n",
              "      <td>NaN</td>\n",
              "      <td>NaN</td>\n",
              "      <td>NaN</td>\n",
              "      <td>NaN</td>\n",
              "      <td>NaN</td>\n",
              "      <td>NaN</td>\n",
              "    </tr>\n",
              "  </tbody>\n",
              "</table>\n",
              "</div>\n",
              "      <button class=\"colab-df-convert\" onclick=\"convertToInteractive('df-76aa54d0-0609-47f4-be87-3da325df7c8f')\"\n",
              "              title=\"Convert this dataframe to an interactive table.\"\n",
              "              style=\"display:none;\">\n",
              "        \n",
              "  <svg xmlns=\"http://www.w3.org/2000/svg\" height=\"24px\"viewBox=\"0 0 24 24\"\n",
              "       width=\"24px\">\n",
              "    <path d=\"M0 0h24v24H0V0z\" fill=\"none\"/>\n",
              "    <path d=\"M18.56 5.44l.94 2.06.94-2.06 2.06-.94-2.06-.94-.94-2.06-.94 2.06-2.06.94zm-11 1L8.5 8.5l.94-2.06 2.06-.94-2.06-.94L8.5 2.5l-.94 2.06-2.06.94zm10 10l.94 2.06.94-2.06 2.06-.94-2.06-.94-.94-2.06-.94 2.06-2.06.94z\"/><path d=\"M17.41 7.96l-1.37-1.37c-.4-.4-.92-.59-1.43-.59-.52 0-1.04.2-1.43.59L10.3 9.45l-7.72 7.72c-.78.78-.78 2.05 0 2.83L4 21.41c.39.39.9.59 1.41.59.51 0 1.02-.2 1.41-.59l7.78-7.78 2.81-2.81c.8-.78.8-2.07 0-2.86zM5.41 20L4 18.59l7.72-7.72 1.47 1.35L5.41 20z\"/>\n",
              "  </svg>\n",
              "      </button>\n",
              "      \n",
              "  <style>\n",
              "    .colab-df-container {\n",
              "      display:flex;\n",
              "      flex-wrap:wrap;\n",
              "      gap: 12px;\n",
              "    }\n",
              "\n",
              "    .colab-df-convert {\n",
              "      background-color: #E8F0FE;\n",
              "      border: none;\n",
              "      border-radius: 50%;\n",
              "      cursor: pointer;\n",
              "      display: none;\n",
              "      fill: #1967D2;\n",
              "      height: 32px;\n",
              "      padding: 0 0 0 0;\n",
              "      width: 32px;\n",
              "    }\n",
              "\n",
              "    .colab-df-convert:hover {\n",
              "      background-color: #E2EBFA;\n",
              "      box-shadow: 0px 1px 2px rgba(60, 64, 67, 0.3), 0px 1px 3px 1px rgba(60, 64, 67, 0.15);\n",
              "      fill: #174EA6;\n",
              "    }\n",
              "\n",
              "    [theme=dark] .colab-df-convert {\n",
              "      background-color: #3B4455;\n",
              "      fill: #D2E3FC;\n",
              "    }\n",
              "\n",
              "    [theme=dark] .colab-df-convert:hover {\n",
              "      background-color: #434B5C;\n",
              "      box-shadow: 0px 1px 3px 1px rgba(0, 0, 0, 0.15);\n",
              "      filter: drop-shadow(0px 1px 2px rgba(0, 0, 0, 0.3));\n",
              "      fill: #FFFFFF;\n",
              "    }\n",
              "  </style>\n",
              "\n",
              "      <script>\n",
              "        const buttonEl =\n",
              "          document.querySelector('#df-76aa54d0-0609-47f4-be87-3da325df7c8f button.colab-df-convert');\n",
              "        buttonEl.style.display =\n",
              "          google.colab.kernel.accessAllowed ? 'block' : 'none';\n",
              "\n",
              "        async function convertToInteractive(key) {\n",
              "          const element = document.querySelector('#df-76aa54d0-0609-47f4-be87-3da325df7c8f');\n",
              "          const dataTable =\n",
              "            await google.colab.kernel.invokeFunction('convertToInteractive',\n",
              "                                                     [key], {});\n",
              "          if (!dataTable) return;\n",
              "\n",
              "          const docLinkHtml = 'Like what you see? Visit the ' +\n",
              "            '<a target=\"_blank\" href=https://colab.research.google.com/notebooks/data_table.ipynb>data table notebook</a>'\n",
              "            + ' to learn more about interactive tables.';\n",
              "          element.innerHTML = '';\n",
              "          dataTable['output_type'] = 'display_data';\n",
              "          await google.colab.output.renderOutput(dataTable, element);\n",
              "          const docLink = document.createElement('div');\n",
              "          docLink.innerHTML = docLinkHtml;\n",
              "          element.appendChild(docLink);\n",
              "        }\n",
              "      </script>\n",
              "    </div>\n",
              "  </div>\n",
              "  "
            ],
            "text/plain": [
              "   Unnamed: 0  MMAF_CODE       MMSI  ...  REGIST_DT  UPDT_USER_NO  UPDT_DT\n",
              "0           0        103  994403901  ...        NaN           NaN      NaN\n",
              "1           1        104  994401597  ...        NaN           NaN      NaN\n",
              "2           2        107  994402986  ...        NaN           NaN      NaN\n",
              "3           3        107  994402986  ...        NaN           NaN      NaN\n",
              "4           4        107  994402986  ...        NaN           NaN      NaN\n",
              "\n",
              "[5 rows x 63 columns]"
            ]
          },
          "metadata": {},
          "execution_count": 2
        }
      ]
    },
    {
      "cell_type": "code",
      "source": [
        "# The last element contains the labels\n",
        "\n",
        "# The other data points are the electrocadriogram data\n",
        "dataframe['MAIN_VOLT_STATUS'].plot()\n",
        "tmp_data = dataframe['MAIN_VOLT_STATUS'][4000:10000]\n",
        "data = np.reshape(np.array(tmp_data),(60,100))\n",
        "np.nan_to_num(data,copy=False)\n",
        "np.nan_to_num(tmp_data,copy=False)\n",
        "labels = np.ones(60)\n",
        "\n",
        "\n",
        "\n",
        "\n",
        "train_data, test_data, _, _ = train_test_split(\n",
        "    data, labels, test_size=0.2, random_state=21\n",
        ")"
      ],
      "metadata": {
        "colab": {
          "base_uri": "https://localhost:8080/",
          "height": 265
        },
        "id": "m7NuCCxGkVSo",
        "outputId": "c8a0ec23-c519-4ca9-8fdb-e9d459c21fe7"
      },
      "execution_count": 3,
      "outputs": [
        {
          "output_type": "display_data",
          "data": {
            "image/png": "[encoded data removed]",
            "text/plain": [
              "<Figure size 432x288 with 1 Axes>"
            ]
          },
          "metadata": {
            "needs_background": "light"
          }
        }
      ]
    },
    {
      "cell_type": "code",
      "source": [
        "min_val = tf.reduce_min(train_data)\n",
        "max_val = tf.reduce_max(train_data)\n",
        "print(min_val)\n",
        "print(max_val)\n",
        "train_data = (train_data - min_val) / (max_val - min_val)\n",
        "test_data = (test_data - min_val) / (max_val - min_val)\n",
        "\n",
        "train_data = tf.cast(train_data, tf.float32)\n",
        "test_data = tf.cast(test_data, tf.float32)"
      ],
      "metadata": {
        "colab": {
          "base_uri": "https://localhost:8080/"
        },
        "id": "U3F7qCRxkVxF",
        "outputId": "b2784942-c995-45ff-f0d9-a6a2f06ab764"
      },
      "execution_count": 4,
      "outputs": [
        {
          "output_type": "stream",
          "name": "stdout",
          "text": [
            "tf.Tensor(0.0, shape=(), dtype=float64)\n",
            "tf.Tensor(14.1, shape=(), dtype=float64)\n"
          ]
        }
      ]
    },
    {
      "cell_type": "code",
      "source": [
        "normal_train_data = train_data\n",
        "normal_test_data = test_data\n",
        "_shape = np.shape(test_data)\n",
        "anomalous_train_data = train_data\n",
        "anomalous_test_data = test_data + np.random.rand(_shape[0],_shape[1])"
      ],
      "metadata": {
        "id": "L_05_LwIkYT0"
      },
      "execution_count": 6,
      "outputs": []
    },
    {
      "cell_type": "code",
      "source": [
        "print(np.shape(normal_train_data[0]))\n",
        "plt.grid()\n",
        "plt.plot(np.arange(100), normal_train_data[0])\n",
        "plt.title(\"A Normal signal\")\n",
        "plt.show()"
      ],
      "metadata": {
        "colab": {
          "base_uri": "https://localhost:8080/",
          "height": 300
        },
        "id": "4rcb0HFCkZGL",
        "outputId": "3ecbcadf-e203-40f6-93e5-e4a7f3913461"
      },
      "execution_count": 7,
      "outputs": [
        {
          "output_type": "stream",
          "name": "stdout",
          "text": [
            "(100,)\n"
          ]
        },
        {
          "output_type": "display_data",
          "data": {
            "image/png": "[encoded data removed]",
            "text/plain": [
              "<Figure size 432x288 with 1 Axes>"
            ]
          },
          "metadata": {
            "needs_background": "light"
          }
        }
      ]
    },
    {
      "cell_type": "code",
      "source": [
        "plt.grid()\n",
        "plt.plot(np.arange(100), anomalous_test_data[0])\n",
        "plt.title(\"An Anomalous signal\")\n",
        "plt.show()"
      ],
      "metadata": {
        "colab": {
          "base_uri": "https://localhost:8080/",
          "height": 281
        },
        "id": "K_3eFcAokZ_g",
        "outputId": "ab61e0f3-73a7-4d1f-db60-97f1bcb563e8"
      },
      "execution_count": 8,
      "outputs": [
        {
          "output_type": "display_data",
          "data": {
            "image/png": "[encoded data removed]",
            "text/plain": [
              "<Figure size 432x288 with 1 Axes>"
            ]
          },
          "metadata": {
            "needs_background": "light"
          }
        }
      ]
    },
    {
      "cell_type": "code",
      "source": [
        "class AnomalyDetector(Model):\n",
        "  def __init__(self):\n",
        "    super(AnomalyDetector, self).__init__()\n",
        "    self.encoder = tf.keras.Sequential([\n",
        "      layers.Dense(100, activation=\"relu\"),\n",
        "      layers.Dense(64, activation=\"relu\"),\n",
        "      layers.Dense(32, activation=\"relu\")])\n",
        "    \n",
        "    self.decoder = tf.keras.Sequential([\n",
        "      layers.Dense(32, activation=\"relu\"),\n",
        "      layers.Dense(64, activation=\"relu\"),\n",
        "      layers.Dense(100, activation=\"sigmoid\")])\n",
        "    \n",
        "  def call(self, x):\n",
        "    encoded = self.encoder(x)\n",
        "    decoded = self.decoder(encoded)\n",
        "    return decoded\n",
        "\n",
        "autoencoder = AnomalyDetector()"
      ],
      "metadata": {
        "id": "3Dy26FnUkbWk"
      },
      "execution_count": 9,
      "outputs": []
    },
    {
      "cell_type": "code",
      "source": [
        "autoencoder.compile(optimizer='adam', loss='mae')"
      ],
      "metadata": {
        "id": "20o0Veknkctx"
      },
      "execution_count": 10,
      "outputs": []
    },
    {
      "cell_type": "code",
      "source": [
        "history = autoencoder.fit(normal_train_data, normal_train_data, \n",
        "          epochs=50, \n",
        "          batch_size=30,\n",
        "          validation_data=(test_data, test_data),\n",
        "          shuffle=True)"
      ],
      "metadata": {
        "colab": {
          "base_uri": "https://localhost:8080/"
        },
        "id": "nJCyqcZZkd7A",
        "outputId": "8124a15d-71ed-499c-90e2-7d46b6155e20"
      },
      "execution_count": 11,
      "outputs": [
        {
          "output_type": "stream",
          "name": "stdout",
          "text": [
            "Epoch 1/50\n",
            "2/2 [==============================] - 2s 529ms/step - loss: 0.3988 - val_loss: 0.3919\n",
            "Epoch 2/50\n",
            "2/2 [==============================] - 0s 60ms/step - loss: 0.3933 - val_loss: 0.3841\n",
            "Epoch 3/50\n",
            "2/2 [==============================] - 0s 42ms/step - loss: 0.3847 - val_loss: 0.3724\n",
            "Epoch 4/50\n",
            "2/2 [==============================] - 0s 39ms/step - loss: 0.3718 - val_loss: 0.3557\n",
            "Epoch 5/50\n",
            "2/2 [==============================] - 0s 47ms/step - loss: 0.3537 - val_loss: 0.3333\n",
            "Epoch 6/50\n",
            "2/2 [==============================] - 0s 57ms/step - loss: 0.3297 - val_loss: 0.3066\n",
            "Epoch 7/50\n",
            "2/2 [==============================] - 0s 56ms/step - loss: 0.3020 - val_loss: 0.2784\n",
            "Epoch 8/50\n",
            "2/2 [==============================] - 0s 60ms/step - loss: 0.2725 - val_loss: 0.2529\n",
            "Epoch 9/50\n",
            "2/2 [==============================] - 0s 57ms/step - loss: 0.2468 - val_loss: 0.2328\n",
            "Epoch 10/50\n",
            "2/2 [==============================] - 0s 55ms/step - loss: 0.2256 - val_loss: 0.2142\n",
            "Epoch 11/50\n",
            "2/2 [==============================] - 0s 140ms/step - loss: 0.2063 - val_loss: 0.1962\n",
            "Epoch 12/50\n",
            "2/2 [==============================] - 0s 70ms/step - loss: 0.1870 - val_loss: 0.1771\n",
            "Epoch 13/50\n",
            "2/2 [==============================] - 0s 85ms/step - loss: 0.1676 - val_loss: 0.1589\n",
            "Epoch 14/50\n",
            "2/2 [==============================] - 0s 41ms/step - loss: 0.1493 - val_loss: 0.1428\n",
            "Epoch 15/50\n",
            "2/2 [==============================] - 0s 43ms/step - loss: 0.1330 - val_loss: 0.1288\n",
            "Epoch 16/50\n",
            "2/2 [==============================] - 0s 51ms/step - loss: 0.1192 - val_loss: 0.1166\n",
            "Epoch 17/50\n",
            "2/2 [==============================] - 0s 39ms/step - loss: 0.1076 - val_loss: 0.1055\n",
            "Epoch 18/50\n",
            "2/2 [==============================] - 0s 63ms/step - loss: 0.0971 - val_loss: 0.0961\n",
            "Epoch 19/50\n",
            "2/2 [==============================] - 0s 106ms/step - loss: 0.0884 - val_loss: 0.0886\n",
            "Epoch 20/50\n",
            "2/2 [==============================] - 0s 62ms/step - loss: 0.0820 - val_loss: 0.0830\n",
            "Epoch 21/50\n",
            "2/2 [==============================] - 0s 34ms/step - loss: 0.0775 - val_loss: 0.0779\n",
            "Epoch 22/50\n",
            "2/2 [==============================] - 0s 36ms/step - loss: 0.0729 - val_loss: 0.0728\n",
            "Epoch 23/50\n",
            "2/2 [==============================] - 0s 36ms/step - loss: 0.0681 - val_loss: 0.0692\n",
            "Epoch 24/50\n",
            "2/2 [==============================] - 0s 29ms/step - loss: 0.0646 - val_loss: 0.0668\n",
            "Epoch 25/50\n",
            "2/2 [==============================] - 0s 28ms/step - loss: 0.0620 - val_loss: 0.0650\n",
            "Epoch 26/50\n",
            "2/2 [==============================] - 0s 28ms/step - loss: 0.0602 - val_loss: 0.0635\n",
            "Epoch 27/50\n",
            "2/2 [==============================] - 0s 32ms/step - loss: 0.0589 - val_loss: 0.0623\n",
            "Epoch 28/50\n",
            "2/2 [==============================] - 0s 31ms/step - loss: 0.0577 - val_loss: 0.0612\n",
            "Epoch 29/50\n",
            "2/2 [==============================] - 0s 28ms/step - loss: 0.0566 - val_loss: 0.0607\n",
            "Epoch 30/50\n",
            "2/2 [==============================] - 0s 34ms/step - loss: 0.0559 - val_loss: 0.0605\n",
            "Epoch 31/50\n",
            "2/2 [==============================] - 0s 29ms/step - loss: 0.0554 - val_loss: 0.0601\n",
            "Epoch 32/50\n",
            "2/2 [==============================] - 0s 28ms/step - loss: 0.0548 - val_loss: 0.0596\n",
            "Epoch 33/50\n",
            "2/2 [==============================] - 0s 27ms/step - loss: 0.0544 - val_loss: 0.0591\n",
            "Epoch 34/50\n",
            "2/2 [==============================] - 0s 27ms/step - loss: 0.0540 - val_loss: 0.0587\n",
            "Epoch 35/50\n",
            "2/2 [==============================] - 0s 27ms/step - loss: 0.0537 - val_loss: 0.0582\n",
            "Epoch 36/50\n",
            "2/2 [==============================] - 0s 57ms/step - loss: 0.0535 - val_loss: 0.0578\n",
            "Epoch 37/50\n",
            "2/2 [==============================] - 0s 31ms/step - loss: 0.0532 - val_loss: 0.0575\n",
            "Epoch 38/50\n",
            "2/2 [==============================] - 0s 32ms/step - loss: 0.0529 - val_loss: 0.0571\n",
            "Epoch 39/50\n",
            "2/2 [==============================] - 0s 30ms/step - loss: 0.0526 - val_loss: 0.0569\n",
            "Epoch 40/50\n",
            "2/2 [==============================] - 0s 34ms/step - loss: 0.0523 - val_loss: 0.0566\n",
            "Epoch 41/50\n",
            "2/2 [==============================] - 0s 32ms/step - loss: 0.0521 - val_loss: 0.0565\n",
            "Epoch 42/50\n",
            "2/2 [==============================] - 0s 38ms/step - loss: 0.0519 - val_loss: 0.0563\n",
            "Epoch 43/50\n",
            "2/2 [==============================] - 0s 31ms/step - loss: 0.0518 - val_loss: 0.0563\n",
            "Epoch 44/50\n",
            "2/2 [==============================] - 0s 32ms/step - loss: 0.0517 - val_loss: 0.0564\n",
            "Epoch 45/50\n",
            "2/2 [==============================] - 0s 31ms/step - loss: 0.0518 - val_loss: 0.0565\n",
            "Epoch 46/50\n",
            "2/2 [==============================] - 0s 50ms/step - loss: 0.0518 - val_loss: 0.0563\n",
            "Epoch 47/50\n",
            "2/2 [==============================] - 0s 29ms/step - loss: 0.0517 - val_loss: 0.0562\n",
            "Epoch 48/50\n",
            "2/2 [==============================] - 0s 31ms/step - loss: 0.0516 - val_loss: 0.0560\n",
            "Epoch 49/50\n",
            "2/2 [==============================] - 0s 35ms/step - loss: 0.0516 - val_loss: 0.0560\n",
            "Epoch 50/50\n",
            "2/2 [==============================] - 0s 31ms/step - loss: 0.0515 - val_loss: 0.0561\n"
          ]
        }
      ]
    },
    {
      "cell_type": "code",
      "source": [
        "plt.plot(history.history[\"loss\"], label=\"Training Loss\")\n",
        "plt.plot(history.history[\"val_loss\"], label=\"Validation Loss\")\n",
        "plt.legend()"
      ],
      "metadata": {
        "colab": {
          "base_uri": "https://localhost:8080/",
          "height": 283
        },
        "id": "-bypX0xTkeyo",
        "outputId": "448c2ced-994f-4698-c716-dd6a00d2788c"
      },
      "execution_count": 12,
      "outputs": [
        {
          "output_type": "execute_result",
          "data": {
            "text/plain": [
              "<matplotlib.legend.Legend at 0x7f1c65b84150>"
            ]
          },
          "metadata": {},
          "execution_count": 12
        },
        {
          "output_type": "display_data",
          "data": {
            "image/png": "[encoded data removed]",
            "text/plain": [
              "<Figure size 432x288 with 1 Axes>"
            ]
          },
          "metadata": {
            "needs_background": "light"
          }
        }
      ]
    },
    {
      "cell_type": "code",
      "source": [
        "encoded_data = autoencoder.encoder(normal_test_data).numpy()\n",
        "decoded_data = autoencoder.decoder(encoded_data).numpy()\n",
        "\n"
      ],
      "metadata": {
        "id": "Esbswynlkfee"
      },
      "execution_count": 13,
      "outputs": []
    },
    {
      "cell_type": "code",
      "source": [
        "encoded_data = autoencoder.encoder(anomalous_test_data).numpy()\n",
        "decoded_data = autoencoder.decoder(encoded_data).numpy()\n"
      ],
      "metadata": {
        "id": "Muwttfb5kgPw"
      },
      "execution_count": 14,
      "outputs": []
    },
    {
      "cell_type": "code",
      "source": [
        "reconstructions = autoencoder.predict(normal_train_data)\n",
        "train_loss = tf.keras.losses.mae(reconstructions, normal_train_data)\n",
        "\n",
        "plt.hist(train_loss[None,:], bins=50)\n",
        "plt.xlabel(\"Train loss\")\n",
        "plt.ylabel(\"No of examples\")\n",
        "plt.show()"
      ],
      "metadata": {
        "id": "h79bkYqbkg4M",
        "colab": {
          "base_uri": "https://localhost:8080/",
          "height": 278
        },
        "outputId": "2cdaf539-d1a5-43a2-d94f-0930beaca845"
      },
      "execution_count": 15,
      "outputs": [
        {
          "output_type": "display_data",
          "data": {
            "image/png": "[encoded data removed]",
            "text/plain": [
              "<Figure size 432x288 with 1 Axes>"
            ]
          },
          "metadata": {
            "needs_background": "light"
          }
        }
      ]
    },
    {
      "cell_type": "code",
      "source": [
        "threshold = np.mean(train_loss) + np.std(train_loss)\n",
        "print(\"Threshold: \", threshold)"
      ],
      "metadata": {
        "colab": {
          "base_uri": "https://localhost:8080/"
        },
        "id": "5a_eMYAZkiWX",
        "outputId": "178a896e-2e59-46aa-90fb-4f90dddbbacd"
      },
      "execution_count": 16,
      "outputs": [
        {
          "output_type": "stream",
          "name": "stdout",
          "text": [
            "Threshold:  0.065197766\n"
          ]
        }
      ]
    },
    {
      "cell_type": "code",
      "source": [
        "reconstructions = autoencoder.predict(anomalous_test_data)\n",
        "test_loss = tf.keras.losses.mae(reconstructions, anomalous_test_data)\n",
        "\n",
        "plt.hist(test_loss[None, :], bins=50)\n",
        "plt.xlabel(\"Test loss\")\n",
        "plt.ylabel(\"No of examples\")\n",
        "plt.show()"
      ],
      "metadata": {
        "colab": {
          "base_uri": "https://localhost:8080/",
          "height": 278
        },
        "id": "ac3YbLc8kjEC",
        "outputId": "339c57c5-c385-4cdb-f37c-3770592f322c"
      },
      "execution_count": 17,
      "outputs": [
        {
          "output_type": "display_data",
          "data": {
            "image/png": "[encoded data removed]",
            "text/plain": [
              "<Figure size 432x288 with 1 Axes>"
            ]
          },
          "metadata": {
            "needs_background": "light"
          }
        }
      ]
    },
    {
      "cell_type": "code",
      "source": [
        "encoded_data = autoencoder.encoder(normal_test_data).numpy()\n",
        "decoded_data = autoencoder.decoder(encoded_data).numpy()\n",
        "\n",
        "plt.plot(normal_test_data[0], 'b')\n",
        "plt.plot(decoded_data[0], 'r')\n",
        "plt.fill_between(np.arange(100), decoded_data[0], normal_test_data[0], color='lightcoral')\n",
        "plt.legend(labels=[\"Input\", \"Reconstruction\", \"Error\"])\n",
        "plt.show()"
      ],
      "metadata": {
        "id": "xA7xwWfbkj3c",
        "colab": {
          "base_uri": "https://localhost:8080/",
          "height": 265
        },
        "outputId": "69c50794-d915-4c6a-9d3f-32dca7ae50fe"
      },
      "execution_count": 20,
      "outputs": [
        {
          "output_type": "display_data",
          "data": {
            "image/png": "[encoded data removed]",
            "text/plain": [
              "<Figure size 432x288 with 1 Axes>"
            ]
          },
          "metadata": {
            "needs_background": "light"
          }
        }
      ]
    },
    {
      "cell_type": "code",
      "source": [
        "encoded_data = autoencoder.encoder(anomalous_test_data).numpy()\n",
        "decoded_data = autoencoder.decoder(encoded_data).numpy()\n",
        "\n",
        "plt.plot(anomalous_test_data[0], 'b')\n",
        "plt.plot(decoded_data[0], 'r')\n",
        "plt.fill_between(np.arange(100), decoded_data[0], anomalous_test_data[0], color='lightcoral')\n",
        "plt.legend(labels=[\"Input\", \"Reconstruction\", \"Error\"])\n",
        "plt.show()"
      ],
      "metadata": {
        "id": "-QNa-EaCkksi",
        "colab": {
          "base_uri": "https://localhost:8080/",
          "height": 265
        },
        "outputId": "758adc29-ebdc-4e47-b7a2-f3b4b2e7f29d"
      },
      "execution_count": 21,
      "outputs": [
        {
          "output_type": "display_data",
          "data": {
            "image/png": "[encoded data removed]",
            "text/plain": [
              "<Figure size 432x288 with 1 Axes>"
            ]
          },
          "metadata": {
            "needs_background": "light"
          }
        }
      ]
    }
  ]
}